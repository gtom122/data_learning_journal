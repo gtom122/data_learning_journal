{
 "cells": [
  {
   "cell_type": "markdown",
   "metadata": {},
   "source": [
    "# Függvények\n"
   ]
  },
  {
   "cell_type": "code",
   "execution_count": null,
   "metadata": {},
   "outputs": [],
   "source": [
    "def input_and_print_a_number(): # függyvény definiálása\n",
    "    number = int(input(\"Adj meg egy számot: \")) # függvénytörzsbent leírjuk a függvényt, ami akkor fut le, amikor meghívom az fv-t\n",
    "    print(number)"
   ]
  },
  {
   "cell_type": "code",
   "execution_count": 3,
   "metadata": {},
   "outputs": [
    {
     "name": "stdout",
     "output_type": "stream",
     "text": [
      "3\n",
      "4\n",
      "5\n"
     ]
    }
   ],
   "source": [
    "# készített függvény meghívása:\n",
    "\n",
    "input_and_print_a_number()\n",
    "input_and_print_a_number()\n",
    "input_and_print_a_number()"
   ]
  },
  {
   "cell_type": "code",
   "execution_count": 5,
   "metadata": {},
   "outputs": [],
   "source": [
    "# fv tulajdonságai: \n",
    "# - lehet, pl. paramáter (fenti függvénynek nincs, ()-be kellene írni, ha lenne)\n",
    "# - lehet mellékhatása, a fenti fv-nek a mellékhatása kiíratás\n",
    "# - lehet visszatérési értéke, fenti fv-nek nincs\n",
    "\n",
    "# fv típusok\n",
    "# - beépített fv-k, pl. print\n",
    "# - importálható fv-k, pl. random.randint\n",
    "# - saját magunk áltaál definiált fv-k"
   ]
  },
  {
   "cell_type": "code",
   "execution_count": 7,
   "metadata": {},
   "outputs": [],
   "source": [
    "# paraméterek - szám négyzetének a háromszorosának kiíratása\n",
    "def print_three_time_number_squared(number):\n",
    "    print(number ** 2 * 3)"
   ]
  },
  {
   "cell_type": "code",
   "execution_count": 11,
   "metadata": {},
   "outputs": [
    {
     "name": "stdout",
     "output_type": "stream",
     "text": [
      "48\n"
     ]
    }
   ],
   "source": [
    "print_three_time_number_squared(4)\n"
   ]
  },
  {
   "cell_type": "code",
   "execution_count": 15,
   "metadata": {},
   "outputs": [],
   "source": [
    "def print_my_age(name, age):\n",
    "    print(f\"{name}, Te most {age} éves vagy, de 10 év múla {age + 10} éves leszel.\")"
   ]
  },
  {
   "cell_type": "code",
   "execution_count": 17,
   "metadata": {},
   "outputs": [
    {
     "name": "stdout",
     "output_type": "stream",
     "text": [
      "Tomi, Te most 28 éves vagy, de 10 év múla 38 éves leszel.\n"
     ]
    }
   ],
   "source": [
    "print_my_age(input(\"Mi a neved\"), int(input(\"Hány éves vagy?\")))"
   ]
  },
  {
   "cell_type": "code",
   "execution_count": 18,
   "metadata": {},
   "outputs": [],
   "source": [
    "# datetime modul segítségével dátumokkal és időpontokkal dolgozhatunk"
   ]
  },
  {
   "cell_type": "code",
   "execution_count": 32,
   "metadata": {},
   "outputs": [
    {
     "name": "stdout",
     "output_type": "stream",
     "text": [
      "2025-07-08 15:10:51.388215\n",
      "2025\n"
     ]
    }
   ],
   "source": [
    "from datetime import datetime # importálás\n",
    "\n",
    "print(datetime.now()) # ez a jelenlegi idő\n",
    "print(datetime.now().year) # ez az idei év"
   ]
  },
  {
   "cell_type": "code",
   "execution_count": 6,
   "metadata": {},
   "outputs": [],
   "source": [
    "# többféle paratméter és paraméter átadás is lehet\n",
    "# pl.:\n",
    "\n",
    "def my_funct(a ,b):\n",
    "    print(f\"a = {a}; b = {b}\")\n",
    "\n",
    "val1 = 123\n",
    "val2 = 234"
   ]
  },
  {
   "cell_type": "code",
   "execution_count": 7,
   "metadata": {},
   "outputs": [
    {
     "name": "stdout",
     "output_type": "stream",
     "text": [
      "a = 123; b = 234\n"
     ]
    }
   ],
   "source": [
    "# pozícionális argumentum, a python az alapján határozza meg, hogy hányadik paraméterként lett átadva\n",
    "my_funct(val1, val2) "
   ]
  },
  {
   "cell_type": "code",
   "execution_count": 8,
   "metadata": {},
   "outputs": [
    {
     "name": "stdout",
     "output_type": "stream",
     "text": [
      "a = 234; b = 123\n"
     ]
    }
   ],
   "source": [
    "# keyword argumentek, nevesítetten elmondom, hogy melyik paraméterem melyik paratméter legyen\n",
    "my_funct(b = val1, a = val2)"
   ]
  },
  {
   "cell_type": "markdown",
   "metadata": {},
   "source": [
    "##### Pandas-nél sok fv hívás, ott nagyon figyelni kell ezekre"
   ]
  },
  {
   "cell_type": "code",
   "execution_count": 9,
   "metadata": {},
   "outputs": [
    {
     "ename": "SyntaxError",
     "evalue": "positional argument follows keyword argument (3656502174.py, line 3)",
     "output_type": "error",
     "traceback": [
      "  \u001b[36mCell\u001b[39m\u001b[36m \u001b[39m\u001b[32mIn[9]\u001b[39m\u001b[32m, line 3\u001b[39m\n\u001b[31m    \u001b[39m\u001b[31mmy_funct(a = val1, val2) # ez így nem jó\u001b[39m\n                           ^\n\u001b[31mSyntaxError\u001b[39m\u001b[31m:\u001b[39m positional argument follows keyword argument\n"
     ]
    }
   ],
   "source": [
    "# Megkötöttségek\n",
    "# - fontos, hogy először a pozícionális argumenteket adjuk meg mindig, tehát:\n",
    "my_funct(a = val1, val2) # ez így nem jó"
   ]
  },
  {
   "cell_type": "code",
   "execution_count": 12,
   "metadata": {},
   "outputs": [
    {
     "name": "stdout",
     "output_type": "stream",
     "text": [
      "a = 234; b = 123\n"
     ]
    }
   ],
   "source": [
    "my_funct(val2, b = val1) # így a jó"
   ]
  },
  {
   "cell_type": "code",
   "execution_count": 14,
   "metadata": {},
   "outputs": [
    {
     "ename": "TypeError",
     "evalue": "my_funct() got multiple values for argument 'a'",
     "output_type": "error",
     "traceback": [
      "\u001b[31m---------------------------------------------------------------------------\u001b[39m",
      "\u001b[31mTypeError\u001b[39m                                 Traceback (most recent call last)",
      "\u001b[36mCell\u001b[39m\u001b[36m \u001b[39m\u001b[32mIn[14]\u001b[39m\u001b[32m, line 1\u001b[39m\n\u001b[32m----> \u001b[39m\u001b[32m1\u001b[39m \u001b[43mmy_funct\u001b[49m\u001b[43m(\u001b[49m\u001b[43mval1\u001b[49m\u001b[43m,\u001b[49m\u001b[43m \u001b[49m\u001b[43ma\u001b[49m\u001b[43m \u001b[49m\u001b[43m=\u001b[49m\u001b[43m \u001b[49m\u001b[43mval2\u001b[49m\u001b[43m)\u001b[49m \u001b[38;5;66;03m# ez sem jó, mert pozícionálisan \"a\" az első érték, így itt a = val1, nem lehet, hogy val2 is \"a\"\u001b[39;00m\n",
      "\u001b[31mTypeError\u001b[39m: my_funct() got multiple values for argument 'a'"
     ]
    }
   ],
   "source": [
    "my_funct(val1, a = val2) # ez sem jó, mert pozícionálisan \"a\" az első érték, így itt a = val1, nem lehet, hogy val2 is \"a\""
   ]
  },
  {
   "cell_type": "markdown",
   "metadata": {},
   "source": [
    "##### Amint függvényhívásnál hívunk azok az argumentumok, ami a definiálásnál definiálunk azok a paraméterek"
   ]
  },
  {
   "cell_type": "code",
   "execution_count": 22,
   "metadata": {},
   "outputs": [],
   "source": [
    "def my_funct2(a, b, c, d, e, f, g, h, i, j):\n",
    "    pass # fejelsztésnél hasznos funkció, a még nem kész fv nem fut hibára a pass-nak köszönhetően"
   ]
  },
  {
   "cell_type": "code",
   "execution_count": 24,
   "metadata": {},
   "outputs": [],
   "source": [
    "def my_funct2(a, b, c, d, e, f, g, h, i, j):\n",
    "    print(a)\n",
    "    print(b)\n",
    "    print(c)\n",
    "    print(d)\n",
    "    print(e)\n",
    "    print(f)\n",
    "    print(g)\n",
    "    print(h)\n",
    "    print(i)\n",
    "    print(j)"
   ]
  },
  {
   "cell_type": "code",
   "execution_count": 27,
   "metadata": {},
   "outputs": [
    {
     "name": "stdout",
     "output_type": "stream",
     "text": [
      "1\n",
      "2\n",
      "3\n",
      "4\n",
      "5\n",
      "8\n",
      "9\n",
      "10\n",
      "7\n",
      "6\n"
     ]
    }
   ],
   "source": [
    "my_funct2(1, 2, 3, 4, 5, j = 6, i = 7, f = 8, g = 9, h = 10) \n",
    "# 1, 2, 3, 4, 5 argumentumok, amelyek pozíció alapján átadódnak az a, b, c, d, e paramétereknek\n",
    "# a többit pedig tetszőleges sorrendben adom meg "
   ]
  },
  {
   "cell_type": "code",
   "execution_count": 35,
   "metadata": {},
   "outputs": [],
   "source": [
    "def print_personal_data(name, age, address = \"ismeretlen\", relationship = \"ismeretlen\"):\n",
    "    born_date = datetime.now().year - age\n",
    "    print(f\"{name} jelenleg {age} éves, tehát {name} {born_date} évben született, lakhelye: {address}, élettársi viszonya: {relationship} \")"
   ]
  },
  {
   "cell_type": "code",
   "execution_count": 38,
   "metadata": {},
   "outputs": [
    {
     "name": "stdout",
     "output_type": "stream",
     "text": [
      "Bela jelenleg 38 éves, tehát Bela 1987 évben született, lakhelye: Furta, élettársi viszonya: Parkapcsolatban \n",
      "Andrea jelenleg 97 éves, tehát Andrea 1928 évben született, lakhelye: Zsáka, élettársi viszonya: Egyedülálló \n",
      "Zsigmond jelenleg 31 éves, tehát Zsigmond 1994 évben született, lakhelye: ismeretlen, élettársi viszonya: ismeretlen \n",
      "Jeniffer jelenleg 27 éves, tehát Jeniffer 1998 évben született, lakhelye: Magyarhomorog, élettársi viszonya: ismeretlen \n",
      "Csongor jelenleg 61 éves, tehát Csongor 1964 évben született, lakhelye: ismeretlen, élettársi viszonya: Hazas \n"
     ]
    }
   ],
   "source": [
    "print_personal_data(\"Bela\", 38, \"Furta\", \"Parkapcsolatban\")\n",
    "print_personal_data(\"Andrea\", 97, \"Zsáka\", \"Egyedülálló\")\n",
    "print_personal_data(\"Zsigmond\", 31)\n",
    "print_personal_data(\"Jeniffer\", 27, \"Magyarhomorog\")\n",
    "print_personal_data(\"Csongor\", 61, relationship=\"Hazas\")"
   ]
  },
  {
   "cell_type": "markdown",
   "metadata": {},
   "source": [
    "##### függvények hívhatnak függvényeket is"
   ]
  },
  {
   "cell_type": "code",
   "execution_count": null,
   "metadata": {},
   "outputs": [
    {
     "name": "stdout",
     "output_type": "stream",
     "text": [
      "meghívódott func_a\n",
      "meghívódott func_b\n",
      "lefutott func_b\n",
      "lefutott func_a\n"
     ]
    }
   ],
   "source": [
    "def func_a(): # definiáljuk a fv-t\n",
    "    print(\"meghívódott func_a\") # kiírja, hogy meghívódott az a fv\n",
    "    func_b() # meghívja a b fv-t / a python itt még nem vizsgálja meg, hogy létezik e a b fv ezért nem fut hibára \n",
    "    print(\"lefutott func_a\") # kiírja, hogy lefutott az a fv\n",
    "\n",
    "def func_b(): # definiáljuk b fv-t\n",
    "    print(\"meghívódott func_b\") # kiírjuk, hogy meghívodott\n",
    "    print(\"lefutott func_b\") # kiírjuk, hogy lefutott\n",
    "\n",
    "func_a()"
   ]
  },
  {
   "cell_type": "markdown",
   "metadata": {},
   "source": [
    "##### Akkor jelent problémát a sorrend, hogyha a hívás pillanatában a meghívott fv, vagy egy azáltal meghívott fv. még nem volt definiálva, lásd lent:"
   ]
  },
  {
   "cell_type": "code",
   "execution_count": 41,
   "metadata": {},
   "outputs": [
    {
     "name": "stdout",
     "output_type": "stream",
     "text": [
      "meghívódott func_c\n"
     ]
    },
    {
     "ename": "NameError",
     "evalue": "name 'func_d' is not defined",
     "output_type": "error",
     "traceback": [
      "\u001b[31m---------------------------------------------------------------------------\u001b[39m",
      "\u001b[31mNameError\u001b[39m                                 Traceback (most recent call last)",
      "\u001b[36mCell\u001b[39m\u001b[36m \u001b[39m\u001b[32mIn[41]\u001b[39m\u001b[32m, line 6\u001b[39m\n\u001b[32m      3\u001b[39m     func_d()\n\u001b[32m      4\u001b[39m     \u001b[38;5;28mprint\u001b[39m(\u001b[33m\"\u001b[39m\u001b[33mlefutott func_c\u001b[39m\u001b[33m\"\u001b[39m)\n\u001b[32m----> \u001b[39m\u001b[32m6\u001b[39m \u001b[43mfunc_c\u001b[49m\u001b[43m(\u001b[49m\u001b[43m)\u001b[49m\n\u001b[32m      8\u001b[39m \u001b[38;5;28;01mdef\u001b[39;00m\u001b[38;5;250m \u001b[39m\u001b[34mfunc_d\u001b[39m():\n\u001b[32m      9\u001b[39m     \u001b[38;5;28mprint\u001b[39m(\u001b[33m\"\u001b[39m\u001b[33mmeghívódott func_d\u001b[39m\u001b[33m\"\u001b[39m) \n",
      "\u001b[36mCell\u001b[39m\u001b[36m \u001b[39m\u001b[32mIn[41]\u001b[39m\u001b[32m, line 3\u001b[39m, in \u001b[36mfunc_c\u001b[39m\u001b[34m()\u001b[39m\n\u001b[32m      1\u001b[39m \u001b[38;5;28;01mdef\u001b[39;00m\u001b[38;5;250m \u001b[39m\u001b[34mfunc_c\u001b[39m():\n\u001b[32m      2\u001b[39m     \u001b[38;5;28mprint\u001b[39m(\u001b[33m\"\u001b[39m\u001b[33mmeghívódott func_c\u001b[39m\u001b[33m\"\u001b[39m)\n\u001b[32m----> \u001b[39m\u001b[32m3\u001b[39m     \u001b[43mfunc_d\u001b[49m()\n\u001b[32m      4\u001b[39m     \u001b[38;5;28mprint\u001b[39m(\u001b[33m\"\u001b[39m\u001b[33mlefutott func_c\u001b[39m\u001b[33m\"\u001b[39m)\n",
      "\u001b[31mNameError\u001b[39m: name 'func_d' is not defined"
     ]
    }
   ],
   "source": [
    "def func_c():\n",
    "    print(\"meghívódott func_c\")\n",
    "    func_d()\n",
    "    print(\"lefutott func_c\")\n",
    "\n",
    "func_c()\n",
    "\n",
    "def func_d():\n",
    "    print(\"meghívódott func_d\") \n",
    "    print(\"lefutott func_d\") "
   ]
  },
  {
   "cell_type": "markdown",
   "metadata": {},
   "source": [
    "# Visszatérési érték"
   ]
  },
  {
   "cell_type": "code",
   "execution_count": 43,
   "metadata": {},
   "outputs": [],
   "source": [
    "def return_square(number):\n",
    "    square = number ** 2\n",
    "    return square"
   ]
  },
  {
   "cell_type": "code",
   "execution_count": 46,
   "metadata": {},
   "outputs": [
    {
     "data": {
      "text/plain": [
       "9"
      ]
     },
     "execution_count": 46,
     "metadata": {},
     "output_type": "execute_result"
    }
   ],
   "source": [
    "return_square(3)"
   ]
  },
  {
   "cell_type": "code",
   "execution_count": 48,
   "metadata": {},
   "outputs": [],
   "source": [
    "sq = return_square(3)"
   ]
  },
  {
   "cell_type": "code",
   "execution_count": 50,
   "metadata": {},
   "outputs": [
    {
     "data": {
      "text/plain": [
       "9"
      ]
     },
     "execution_count": 50,
     "metadata": {},
     "output_type": "execute_result"
    }
   ],
   "source": [
    "sq"
   ]
  },
  {
   "cell_type": "code",
   "execution_count": 53,
   "metadata": {},
   "outputs": [],
   "source": [
    "def is_even(number):\n",
    "    if number % 2 == 0:\n",
    "        return \"Páros\"\n",
    "    else:\n",
    "        return \"Páratlan\""
   ]
  },
  {
   "cell_type": "code",
   "execution_count": 55,
   "metadata": {},
   "outputs": [
    {
     "data": {
      "text/plain": [
       "'Páros'"
      ]
     },
     "execution_count": 55,
     "metadata": {},
     "output_type": "execute_result"
    }
   ],
   "source": [
    "is_even(2)"
   ]
  },
  {
   "cell_type": "code",
   "execution_count": 57,
   "metadata": {},
   "outputs": [
    {
     "data": {
      "text/plain": [
       "'Páratlan'"
      ]
     },
     "execution_count": 57,
     "metadata": {},
     "output_type": "execute_result"
    }
   ],
   "source": [
    "is_even(5)"
   ]
  },
  {
   "cell_type": "markdown",
   "metadata": {},
   "source": [
    "##### úgy is fel lehet használni a return-t, hogyha abba a helyzetbe kerültünk, hogy a fv-nkbe már nem akarunk semmi mást csinálni, akkor egyszerűen visszatérünk és leegyszerűsödik a másik logika, nem kell else ág"
   ]
  },
  {
   "cell_type": "code",
   "execution_count": 59,
   "metadata": {},
   "outputs": [],
   "source": [
    "def print_if_even(number):\n",
    "    if number % 2 == 1:\n",
    "        return\n",
    "    return \"Páros\""
   ]
  },
  {
   "cell_type": "code",
   "execution_count": 62,
   "metadata": {},
   "outputs": [
    {
     "data": {
      "text/plain": [
       "'Páros'"
      ]
     },
     "execution_count": 62,
     "metadata": {},
     "output_type": "execute_result"
    }
   ],
   "source": [
    "print_if_even(2)"
   ]
  },
  {
   "cell_type": "code",
   "execution_count": 63,
   "metadata": {},
   "outputs": [],
   "source": [
    "print_if_even(3)"
   ]
  },
  {
   "cell_type": "code",
   "execution_count": 73,
   "metadata": {},
   "outputs": [],
   "source": [
    "def no_return():\n",
    "    print(\"no return\")\n",
    "\n",
    "def empty_return():\n",
    "    print(\"empty return\")\n",
    "    return\n",
    "\n",
    "def none_return():\n",
    "    print(\"none return\")\n",
    "    return None"
   ]
  },
  {
   "cell_type": "code",
   "execution_count": 74,
   "metadata": {},
   "outputs": [
    {
     "name": "stdout",
     "output_type": "stream",
     "text": [
      "no return\n",
      "empty return\n",
      "none return\n"
     ]
    }
   ],
   "source": [
    "a = no_return()\n",
    "b = empty_return()\n",
    "c = none_return()"
   ]
  },
  {
   "cell_type": "code",
   "execution_count": 75,
   "metadata": {},
   "outputs": [
    {
     "name": "stdout",
     "output_type": "stream",
     "text": [
      "None\n",
      "None\n",
      "None\n"
     ]
    }
   ],
   "source": [
    "print(a)\n",
    "print(b)\n",
    "print(c)"
   ]
  },
  {
   "cell_type": "markdown",
   "metadata": {},
   "source": [
    "##### None üres érték"
   ]
  },
  {
   "cell_type": "code",
   "execution_count": 78,
   "metadata": {},
   "outputs": [
    {
     "name": "stdout",
     "output_type": "stream",
     "text": [
      "1\n",
      "2\n",
      "4\n",
      "6\n",
      "8\n",
      "12\n"
     ]
    }
   ],
   "source": [
    "for value in [1, 2, 4, None, 6, 8, None, None, 12, None]:\n",
    "    if value is not None:\n",
    "        print(value)"
   ]
  },
  {
   "cell_type": "markdown",
   "metadata": {},
   "source": [
    "##### Pandas-szal kapcsolatban lesz hasznos. \n",
    "##### A listákkal kapcsolatban már volt szó róla, hogy a listák referenciák. "
   ]
  },
  {
   "cell_type": "code",
   "execution_count": 89,
   "metadata": {},
   "outputs": [
    {
     "data": {
      "text/plain": [
       "[1, 2, 3, 4, 5]"
      ]
     },
     "execution_count": 89,
     "metadata": {},
     "output_type": "execute_result"
    }
   ],
   "source": [
    "l = [1, 2, 3, 4, 5]\n",
    "l"
   ]
  },
  {
   "cell_type": "code",
   "execution_count": 90,
   "metadata": {},
   "outputs": [],
   "source": [
    "def insert_99(lista):\n",
    "    lista.insert(0, 99) # első elemnek beszúrom a 99-et"
   ]
  },
  {
   "cell_type": "code",
   "execution_count": 91,
   "metadata": {},
   "outputs": [
    {
     "data": {
      "text/plain": [
       "[99, 1, 2, 3, 4, 5]"
      ]
     },
     "execution_count": 91,
     "metadata": {},
     "output_type": "execute_result"
    }
   ],
   "source": [
    "insert_99(l)\n",
    "l"
   ]
  },
  {
   "cell_type": "code",
   "execution_count": 92,
   "metadata": {},
   "outputs": [
    {
     "data": {
      "text/plain": [
       "[99, 99, 99, 99, 1, 2, 3, 4, 5]"
      ]
     },
     "execution_count": 92,
     "metadata": {},
     "output_type": "execute_result"
    }
   ],
   "source": [
    "insert_99(l)\n",
    "insert_99(l)\n",
    "insert_99(l)\n",
    "l"
   ]
  },
  {
   "cell_type": "code",
   "execution_count": 93,
   "metadata": {},
   "outputs": [
    {
     "data": {
      "text/plain": [
       "[999, 99, 99, 99, 99, 1, 2, 3, 4, 5]"
      ]
     },
     "execution_count": 93,
     "metadata": {},
     "output_type": "execute_result"
    }
   ],
   "source": [
    "lista = l\n",
    "lista.insert(0, 999)\n",
    "l"
   ]
  },
  {
   "cell_type": "markdown",
   "metadata": {},
   "source": [
    "##### belülről külső változót nem tudunk megváltoztatni, de belülről látjuk a külső változókat, hogyha azokat belül nem definiáltuk felül"
   ]
  },
  {
   "cell_type": "code",
   "execution_count": null,
   "metadata": {},
   "outputs": [
    {
     "name": "stdout",
     "output_type": "stream",
     "text": [
      "alma\n"
     ]
    }
   ],
   "source": [
    "def my_function():\n",
    "    variable = \"körte\" # itt tudja, hogy ez egy belső változó, ennek a scope-ja az fv. maga, tudja, hogy belül kell értelmezni, belül létezik\n",
    "\n",
    "variable = \"alma\"\n",
    "my_function()\n",
    "\n",
    "print(variable)"
   ]
  },
  {
   "cell_type": "code",
   "execution_count": 98,
   "metadata": {},
   "outputs": [
    {
     "name": "stdout",
     "output_type": "stream",
     "text": [
      "alma\n",
      "alma\n"
     ]
    }
   ],
   "source": [
    "def my_function():\n",
    "    print(variable) # itt tudja, hogy ezt a változót kívűlről akarom elérni, mert kívűl ez létezik\n",
    "\n",
    "variable = \"alma\"\n",
    "my_function()\n",
    "\n",
    "print(variable)\n",
    "\n"
   ]
  },
  {
   "cell_type": "code",
   "execution_count": 103,
   "metadata": {},
   "outputs": [
    {
     "name": "stdout",
     "output_type": "stream",
     "text": [
      "körte\n"
     ]
    }
   ],
   "source": [
    "def my_function():\n",
    "    global variable\n",
    "    variable = \"körte\" # 3. meghíváskor a global variable felülírja az almát körtére\n",
    "\n",
    "variable = \"alma\" # 1. létrejön egy globalis változó, melynek értéke = \"alma\"\n",
    "my_function() # 2. fv meghívása, mely azt mondja: variable változót ne lokálisan kezelje, hanem a globális névtérben lévőt használja\n",
    "\n",
    "print(variable) # 4. kiírja, hogy körte"
   ]
  },
  {
   "cell_type": "code",
   "execution_count": 109,
   "metadata": {},
   "outputs": [
    {
     "name": "stdout",
     "output_type": "stream",
     "text": [
      "1 2 3\n",
      "3 2 1\n"
     ]
    }
   ],
   "source": [
    "def my_function2():\n",
    "    global a, b, c\n",
    "    a, b, c = c, b, a\n",
    "\n",
    "a = 1\n",
    "b = 2\n",
    "c = 3\n",
    "\n",
    "print(a, b, c)\n",
    "my_function2()\n",
    "print(a, b,c)"
   ]
  },
  {
   "cell_type": "code",
   "execution_count": 1,
   "metadata": {},
   "outputs": [
    {
     "name": "stdout",
     "output_type": "stream",
     "text": [
      "True\n",
      "True\n",
      "True\n",
      "False\n"
     ]
    }
   ],
   "source": [
    "def is_a_right_triangle(a, b, c):    \n",
    "    if a ** 2 +b ** 2 == c ** 2 or a ** 2 +c ** 2 == b ** 2 or b ** 2 + c ** 2 == a ** 2:\n",
    "        return True\n",
    "    return False\n",
    "\n",
    "print(is_a_right_triangle(3,4,5))\n",
    "print(is_a_right_triangle(5,4,3))\n",
    "print(is_a_right_triangle(3,5,4))\n",
    "print(is_a_right_triangle(1,1,2))"
   ]
  },
  {
   "cell_type": "markdown",
   "metadata": {},
   "source": [
    "##### mappa struktúra bejárása - rekurzió"
   ]
  },
  {
   "cell_type": "code",
   "execution_count": 3,
   "metadata": {},
   "outputs": [
    {
     "data": {
      "text/plain": [
       "True"
      ]
     },
     "execution_count": 3,
     "metadata": {},
     "output_type": "execute_result"
    }
   ],
   "source": [
    "isinstance(\"alma\", str) # alma string-e?"
   ]
  },
  {
   "cell_type": "code",
   "execution_count": 5,
   "metadata": {},
   "outputs": [
    {
     "data": {
      "text/plain": [
       "False"
      ]
     },
     "execution_count": 5,
     "metadata": {},
     "output_type": "execute_result"
    }
   ],
   "source": [
    "isinstance(\"alma\", int) # alma int-e?"
   ]
  },
  {
   "cell_type": "code",
   "execution_count": 9,
   "metadata": {},
   "outputs": [
    {
     "data": {
      "text/plain": [
       "[1, 2, 3, 4, [5, 6, 7]]"
      ]
     },
     "execution_count": 9,
     "metadata": {},
     "output_type": "execute_result"
    }
   ],
   "source": [
    "lst = [1, 2, 3, 4]\n",
    "lst_2 = [5, 6, 7]\n",
    "lst.append(lst_2)\n",
    "lst"
   ]
  },
  {
   "cell_type": "code",
   "execution_count": 10,
   "metadata": {},
   "outputs": [
    {
     "data": {
      "text/plain": [
       "[1, 2, 3, 4, 5, 6, 7]"
      ]
     },
     "execution_count": 10,
     "metadata": {},
     "output_type": "execute_result"
    }
   ],
   "source": [
    "lst = [1, 2, 3, 4]\n",
    "lst_2 = [5, 6, 7]\n",
    "lst.extend(lst_2)\n",
    "lst"
   ]
  },
  {
   "cell_type": "code",
   "execution_count": 13,
   "metadata": {},
   "outputs": [
    {
     "name": "stdout",
     "output_type": "stream",
     "text": [
      "['report.xlsx', 'data.csv', 'notebook.ipynb', 'mapping.xlsm', 'help.txt', 'fy23.xlsx', '20250223_123543.jpg', 'list.txt', 'report.pdf', 'hr.csv']\n"
     ]
    }
   ],
   "source": [
    "def find_folders(folder):\n",
    "    folders_found = []\n",
    "    for file in folder:\n",
    "        if isinstance(file, list):\n",
    "            folders_found.append(file)\n",
    "    return folders_found\n",
    "\n",
    "def find_files(folder):\n",
    "    files_found = []\n",
    "    for file in folder:\n",
    "        if isinstance(file, str):\n",
    "            files_found.append(file)\n",
    "    return files_found\n",
    "\n",
    "folder = [\n",
    "            \"report.xlsx\", \n",
    "            \"data.csv\", \n",
    "            \"notebook.ipynb\", \n",
    "            [\n",
    "                \"help.txt\", \n",
    "                \"fy23.xlsx\"\n",
    "            ], \n",
    "            [\n",
    "                \"20250223_123543.jpg\", \n",
    "                \"list.txt\", \n",
    "                \"report.pdf\", \n",
    "                \"hr.csv\"\n",
    "            ], \n",
    "            \"mapping.xlsm\"\n",
    "        ]\n",
    "\n",
    "files_found = find_files(folder)\n",
    "subfolders = find_folders(folder)\n",
    "for subfolder in subfolders:\n",
    "    files_found_in_subfolder = find_files(subfolder)\n",
    "    files_found.extend(files_found_in_subfolder)\n",
    "\n",
    "print(files_found)\n"
   ]
  },
  {
   "cell_type": "code",
   "execution_count": 15,
   "metadata": {},
   "outputs": [
    {
     "name": "stdout",
     "output_type": "stream",
     "text": [
      "['report.xlsx', 'data.csv', 'notebook.ipynb', 'mapping.xlsm', 'help.txt', 'fy23.xlsx', 'valami.csv', 'file.xlsx', '20250223_123543.jpg', 'list.txt', 'report.pdf', 'hr.csv', 'kep.png', 'files.pdf', 'report.xlsm']\n"
     ]
    }
   ],
   "source": [
    "def find_folders(folder):\n",
    "    folders_found = []\n",
    "    for file in folder:\n",
    "        if isinstance(file, list):\n",
    "            folders_found.append(file)\n",
    "    return folders_found\n",
    "\n",
    "def find_files(folder):\n",
    "    files_found = []\n",
    "    for file in folder:\n",
    "        if isinstance(file, str):\n",
    "            files_found.append(file)\n",
    "    return files_found\n",
    "\n",
    "folder = [\n",
    "            \"report.xlsx\", \n",
    "            \"data.csv\", \n",
    "            \"notebook.ipynb\", \n",
    "            [\n",
    "                \"help.txt\", \n",
    "                \"fy23.xlsx\", \n",
    "                [\n",
    "                    \"valami.csv\", \n",
    "                    \"file.xlsx\"\n",
    "                ]\n",
    "            ], \n",
    "            [\n",
    "                \"20250223_123543.jpg\", \n",
    "                [\n",
    "                    \"kep.png\", \n",
    "                    \"files.pdf\", \n",
    "                    \"report.xlsm\"\n",
    "                ], \n",
    "                \"list.txt\", \"report.pdf\", \"hr.csv\"\n",
    "            ], \n",
    "            \"mapping.xlsm\"\n",
    "        ]\n",
    "\n",
    "files_found = find_files(folder)\n",
    "subfolders = find_folders(folder)\n",
    "for subfolder in subfolders:\n",
    "    files_found_in_subfolder = find_files(subfolder)\n",
    "    sub_subfolders = find_folders(subfolder)\n",
    "    for sub_subfolder in sub_subfolders:\n",
    "        files_found_in_sub_subfolder = find_files(sub_subfolder)\n",
    "        files_found_in_subfolder.extend(files_found_in_sub_subfolder)\n",
    "    files_found.extend(files_found_in_subfolder)\n",
    "\n",
    "print(files_found)\n",
    "\n",
    "# minél több az almappa, annál több ciklus van, ez nem a legjobb megoldás, erre ad megoldást a rekurzió, lásd lentebb\n"
   ]
  },
  {
   "cell_type": "code",
   "execution_count": 18,
   "metadata": {},
   "outputs": [
    {
     "name": "stdout",
     "output_type": "stream",
     "text": [
      "['report.xlsx', 'data.csv', 'notebook.ipynb', 'help.txt', 'fy23.xlsx', 'valami.csv', 'file.xlsx', '20250223_123543.jpg', 'kep.png', 'files.pdf', 'sokadik.xlsx', 'report.xlsm', 'list.txt', 'report.pdf', 'hr.csv', 'mapping.xlsm']\n"
     ]
    }
   ],
   "source": [
    "def find_files_in_folder(folder):\n",
    "    files_found = [] \n",
    "    for file in folder:\n",
    "        if isinstance(file, str):\n",
    "            files_found.append(file)\n",
    "        elif isinstance(file, list):\n",
    "            files_found.extend(find_files_in_folder(file))\n",
    "    return files_found\n",
    "\n",
    "folder = [\n",
    "            \"report.xlsx\", \n",
    "            \"data.csv\", \n",
    "            \"notebook.ipynb\", \n",
    "            [\n",
    "                \"help.txt\", \n",
    "                \"fy23.xlsx\", \n",
    "                [\n",
    "                    \"valami.csv\", \n",
    "                    \"file.xlsx\"\n",
    "                ]\n",
    "            ], \n",
    "            [\"20250223_123543.jpg\", \n",
    "                [\n",
    "                    \"kep.png\", \n",
    "                    \"files.pdf\", \n",
    "                    [\n",
    "                        \"sokadik.xlsx\"\n",
    "                    ], \n",
    "                    \"report.xlsm\"\n",
    "                ], \"list.txt\", \n",
    "                \"report.pdf\", \n",
    "                \"hr.csv\"\n",
    "            ], \n",
    "            \"mapping.xlsm\"\n",
    "        ]\n",
    "\n",
    "print(find_files_in_folder(folder))"
   ]
  },
  {
   "cell_type": "code",
   "execution_count": 23,
   "metadata": {},
   "outputs": [
    {
     "name": "stdout",
     "output_type": "stream",
     "text": [
      "report.xlsx\n",
      "data.csv\n",
      "notebook.ipynb\n",
      "    help.txt\n",
      "    fy23.xlsx\n",
      "        valami.csv\n",
      "        file.xlsx\n",
      "    20250223_123543.jpg\n",
      "        kep.png\n",
      "        files.pdf\n",
      "            sokadik.xlsx\n",
      "        report.xlsm\n",
      "    list.txt\n",
      "    report.pdf\n",
      "    hr.csv\n",
      "mapping.xlsm\n"
     ]
    }
   ],
   "source": [
    "# esztétikusabb kiíratás, mappaszintek szerint:\n",
    "def find_files_in_folder(folder, level = 0):\n",
    "    files_found = [] \n",
    "    for file in folder:\n",
    "        if isinstance(file, str):\n",
    "            files_found.append(f\"{' ' * (level * 4)}{file}\")\n",
    "        elif isinstance(file, list):\n",
    "            files_found.extend(find_files_in_folder(file, level + 1))\n",
    "    return files_found\n",
    "\n",
    "folder = [\n",
    "            \"report.xlsx\", \n",
    "            \"data.csv\", \n",
    "            \"notebook.ipynb\", \n",
    "            [\n",
    "                \"help.txt\", \n",
    "                \"fy23.xlsx\", \n",
    "                [\n",
    "                    \"valami.csv\", \n",
    "                    \"file.xlsx\"\n",
    "                ]\n",
    "            ], \n",
    "            [\"20250223_123543.jpg\", \n",
    "                [\n",
    "                    \"kep.png\", \n",
    "                    \"files.pdf\", \n",
    "                    [\n",
    "                        \"sokadik.xlsx\"\n",
    "                    ], \n",
    "                    \"report.xlsm\"\n",
    "                ], \"list.txt\", \n",
    "                \"report.pdf\", \n",
    "                \"hr.csv\"\n",
    "            ], \n",
    "            \"mapping.xlsm\"\n",
    "        ]\n",
    "\n",
    "print(*find_files_in_folder(folder), sep = \"\\n\")"
   ]
  },
  {
   "cell_type": "markdown",
   "metadata": {},
   "source": [
    "##### minél nagyobb mélységbe megy a rekurzió, ott mindig a mélységnek megfelelő erőforrás szorzódás van, ezért bizonyos esetekben nem feltétlen a rekurzió a legjobb megoldás. Ha egy fv egyetlen futása során anna ktörzsében kétszer is meghívja önmagát, akkor lehet, hogy felesleges lépéseket teszünk\n",
    "\n",
    "##### Ettől eltekintve, azonban hierarchikus struktúrák bejárásánál nagyon hasznos, pl.: .JSON feldolgozás"
   ]
  },
  {
   "cell_type": "markdown",
   "metadata": {},
   "source": [
    "## Lambda kifejezések\n",
    "##### kifejezetten az egysoros, egy valamit cisnáló fv-k leegyszeűsítésére való"
   ]
  },
  {
   "cell_type": "code",
   "execution_count": 34,
   "metadata": {},
   "outputs": [],
   "source": [
    "def square_plus_one(number):\n",
    "    return number ** 2 + 1"
   ]
  },
  {
   "cell_type": "code",
   "execution_count": null,
   "metadata": {},
   "outputs": [
    {
     "data": {
      "text/plain": [
       "10"
      ]
     },
     "execution_count": 37,
     "metadata": {},
     "output_type": "execute_result"
    }
   ],
   "source": [
    "square_plus_one(3)"
   ]
  },
  {
   "cell_type": "code",
   "execution_count": 46,
   "metadata": {},
   "outputs": [],
   "source": [
    "sq_pl_one_lambda = lambda number: number ** 2 + 1"
   ]
  },
  {
   "cell_type": "code",
   "execution_count": 50,
   "metadata": {},
   "outputs": [
    {
     "data": {
      "text/plain": [
       "10"
      ]
     },
     "execution_count": 50,
     "metadata": {},
     "output_type": "execute_result"
    }
   ],
   "source": [
    "sq_pl_one_lambda(3)"
   ]
  },
  {
   "cell_type": "code",
   "execution_count": null,
   "metadata": {},
   "outputs": [],
   "source": [
    "# több változóval is működik\n",
    "expon = lambda a, b: a ** b"
   ]
  },
  {
   "cell_type": "code",
   "execution_count": 52,
   "metadata": {},
   "outputs": [
    {
     "data": {
      "text/plain": [
       "1024"
      ]
     },
     "execution_count": 52,
     "metadata": {},
     "output_type": "execute_result"
    }
   ],
   "source": [
    "expon(2, 10)"
   ]
  },
  {
   "cell_type": "code",
   "execution_count": 56,
   "metadata": {},
   "outputs": [],
   "source": [
    "pytagoras_c = lambda a, b: (a ** 2 + b **2) ** 0.5"
   ]
  },
  {
   "cell_type": "code",
   "execution_count": 58,
   "metadata": {},
   "outputs": [
    {
     "data": {
      "text/plain": [
       "5.0"
      ]
     },
     "execution_count": 58,
     "metadata": {},
     "output_type": "execute_result"
    }
   ],
   "source": [
    "pytagoras_c(4, 3)"
   ]
  },
  {
   "cell_type": "code",
   "execution_count": null,
   "metadata": {},
   "outputs": [],
   "source": [
    "lambda_with_args = lambda *args: \"---\".join(args) # a (*) lehetővé teszi, hogy a függvény tetszőleges számú pozicionális arg-ot fogadjon el"
   ]
  },
  {
   "cell_type": "code",
   "execution_count": 60,
   "metadata": {},
   "outputs": [
    {
     "data": {
      "text/plain": [
       "'alma---a---fa---alatt'"
      ]
     },
     "execution_count": 60,
     "metadata": {},
     "output_type": "execute_result"
    }
   ],
   "source": [
    "lambda_with_args(\"alma\", \"a\", \"fa\", \"alatt\")"
   ]
  },
  {
   "cell_type": "code",
   "execution_count": 62,
   "metadata": {},
   "outputs": [
    {
     "name": "stdout",
     "output_type": "stream",
     "text": [
      "alma---a---fa---alatt\n"
     ]
    }
   ],
   "source": [
    "print(\"alma\", \"a\", \"fa\", \"alatt\", sep = \"---\")"
   ]
  },
  {
   "cell_type": "code",
   "execution_count": 63,
   "metadata": {},
   "outputs": [],
   "source": [
    "def my_print(*args, sep = \"---\", end = \"...\"):\n",
    "    print(*args, sep = sep, end = end)"
   ]
  },
  {
   "cell_type": "code",
   "execution_count": 64,
   "metadata": {},
   "outputs": [
    {
     "name": "stdout",
     "output_type": "stream",
     "text": [
      "alma---a---fa---alatt..."
     ]
    }
   ],
   "source": [
    "my_print(\"alma\", \"a\", \"fa\", \"alatt\")"
   ]
  },
  {
   "cell_type": "code",
   "execution_count": 65,
   "metadata": {},
   "outputs": [],
   "source": [
    "def return_args_as_list(*args):\n",
    "    return list(args) # azért kell a list, mert alapvetően ez tuple, a list pedig listává konvertálja, de a tuple-t is lehet indexelni\n",
    "# lehet iterálni"
   ]
  },
  {
   "cell_type": "code",
   "execution_count": 66,
   "metadata": {},
   "outputs": [
    {
     "data": {
      "text/plain": [
       "['alma', 1, 3, '...', True, 3.14]"
      ]
     },
     "execution_count": 66,
     "metadata": {},
     "output_type": "execute_result"
    }
   ],
   "source": [
    "l = return_args_as_list(\"alma\", 1, 3, \"...\", True, 3.14)\n",
    "l"
   ]
  }
 ],
 "metadata": {
  "kernelspec": {
   "display_name": "Python 3",
   "language": "python",
   "name": "python3"
  },
  "language_info": {
   "codemirror_mode": {
    "name": "ipython",
    "version": 3
   },
   "file_extension": ".py",
   "mimetype": "text/x-python",
   "name": "python",
   "nbconvert_exporter": "python",
   "pygments_lexer": "ipython3",
   "version": "3.12.5"
  }
 },
 "nbformat": 4,
 "nbformat_minor": 2
}

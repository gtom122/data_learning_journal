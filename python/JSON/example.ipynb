{
 "cells": [
  {
   "cell_type": "markdown",
   "metadata": {},
   "source": [
    "file beolvasása"
   ]
  },
  {
   "cell_type": "code",
   "execution_count": 8,
   "metadata": {},
   "outputs": [
    {
     "name": "stdout",
     "output_type": "stream",
     "text": [
      "[\n",
      "    {   \n",
      "        \"name\"  : \"John Smith\",\n",
      "        \"sku\"   : \"20223\",\n",
      "        \"price\" : 23.95,\n",
      "        \"shipTo\" : {\"name\"  : \"Jane Smith\",\n",
      "                    \"address\"   : \"123 Maple Street\",\n",
      "                    \"city\" : \"Pretendville\",\n",
      "                    \"state\" : \"NY\",\n",
      "                    \"zip\"   : \"12345\" },\n",
      "        \"billTo\" : {\"name\" : \"John Smith\",\n",
      "                    \"address\" : \"123 Maple Street\",\n",
      "                    \"city\" : \"Pretendville\",\n",
      "                    \"state\" : \"NY\",\n",
      "                    \"zip\": \"12345\" }\n",
      "    },\n",
      "\n",
      "    {   \n",
      "        \"name\"  : \"Alice Brown\",\n",
      "        \"sku\"   : \"54321\",\n",
      "        \"price\" : 199.95,\n",
      "        \"shipTo\" : {\"name\" : \"Bob Brown\",\n",
      "                    \"address\" : \"456 Oak Lane\",\n",
      "                    \"city\" : \"Pretendville\",\n",
      "                    \"state\" : \"HI\",\n",
      "                    \"zip\" : \"98999\" },\n",
      "        \"billTo\"    : { \"name\" : \"Alice Brown\",\n",
      "                    \"address\" : \"456 Oak Lane\",\n",
      "                    \"city\" : \"Pretendville\",\n",
      "                    \"state\" : \"HI\",\n",
      "                    \"zip\" : null } \n",
      "    }\n",
      "]\n"
     ]
    }
   ],
   "source": [
    "with open(\"example.json\", \"r\", encoding = \"utf-8\") as f: # r - read, w - write, rb - read binary\n",
    "    print(f.read())\n"
   ]
  },
  {
   "cell_type": "markdown",
   "metadata": {},
   "source": [
    "A `json.load()` a fájlban lévő json-t beolvassa és python struktúrákat cisnál belőle.\n",
    "A json array-ekből python listákat csinál, a json mappekből python listákat csinál. A stringekből stringeket, a floatokból floatokat, az intekből inteket, a null-ból none-t."
   ]
  },
  {
   "cell_type": "code",
   "execution_count": 9,
   "metadata": {},
   "outputs": [],
   "source": [
    "import json"
   ]
  },
  {
   "cell_type": "code",
   "execution_count": 11,
   "metadata": {},
   "outputs": [],
   "source": [
    "with open(\"example.json\", \"r\", encoding = \"utf-8\") as f: \n",
    "    content = json.load(f)"
   ]
  },
  {
   "cell_type": "code",
   "execution_count": 14,
   "metadata": {},
   "outputs": [
    {
     "data": {
      "text/plain": [
       "[{'name': 'John Smith',\n",
       "  'sku': '20223',\n",
       "  'price': 23.95,\n",
       "  'shipTo': {'name': 'Jane Smith',\n",
       "   'address': '123 Maple Street',\n",
       "   'city': 'Pretendville',\n",
       "   'state': 'NY',\n",
       "   'zip': '12345'},\n",
       "  'billTo': {'name': 'John Smith',\n",
       "   'address': '123 Maple Street',\n",
       "   'city': 'Pretendville',\n",
       "   'state': 'NY',\n",
       "   'zip': '12345'}},\n",
       " {'name': 'Alice Brown',\n",
       "  'sku': '54321',\n",
       "  'price': 199.95,\n",
       "  'shipTo': {'name': 'Bob Brown',\n",
       "   'address': '456 Oak Lane',\n",
       "   'city': 'Pretendville',\n",
       "   'state': 'HI',\n",
       "   'zip': '98999'},\n",
       "  'billTo': {'name': 'Alice Brown',\n",
       "   'address': '456 Oak Lane',\n",
       "   'city': 'Pretendville',\n",
       "   'state': 'HI',\n",
       "   'zip': None}}]"
      ]
     },
     "execution_count": 14,
     "metadata": {},
     "output_type": "execute_result"
    }
   ],
   "source": [
    "content"
   ]
  },
  {
   "cell_type": "code",
   "execution_count": 16,
   "metadata": {},
   "outputs": [
    {
     "data": {
      "text/plain": [
       "{'name': 'John Smith',\n",
       " 'sku': '20223',\n",
       " 'price': 23.95,\n",
       " 'shipTo': {'name': 'Jane Smith',\n",
       "  'address': '123 Maple Street',\n",
       "  'city': 'Pretendville',\n",
       "  'state': 'NY',\n",
       "  'zip': '12345'},\n",
       " 'billTo': {'name': 'John Smith',\n",
       "  'address': '123 Maple Street',\n",
       "  'city': 'Pretendville',\n",
       "  'state': 'NY',\n",
       "  'zip': '12345'}}"
      ]
     },
     "execution_count": 16,
     "metadata": {},
     "output_type": "execute_result"
    }
   ],
   "source": [
    "content[0]"
   ]
  },
  {
   "cell_type": "code",
   "execution_count": 21,
   "metadata": {},
   "outputs": [
    {
     "data": {
      "text/plain": [
       "'John Smith'"
      ]
     },
     "execution_count": 21,
     "metadata": {},
     "output_type": "execute_result"
    }
   ],
   "source": [
    "content[0]['name']"
   ]
  },
  {
   "cell_type": "code",
   "execution_count": 25,
   "metadata": {},
   "outputs": [
    {
     "name": "stdout",
     "output_type": "stream",
     "text": [
      "John Smith will ship some products to Jane Smith\n",
      "Alice Brown will ship some products to Bob Brown\n"
     ]
    }
   ],
   "source": [
    "for shipping in content:\n",
    "    print(f\"{shipping['name']} will ship some products to {shipping['shipTo']['name']}\")"
   ]
  },
  {
   "cell_type": "markdown",
   "metadata": {},
   "source": [
    "write funkció bemutatása"
   ]
  },
  {
   "cell_type": "code",
   "execution_count": 29,
   "metadata": {},
   "outputs": [
    {
     "data": {
      "text/plain": [
       "{'alma': 'apple',\n",
       " 'ablak': 'window',\n",
       " 'osz': ['fall', 'autumn'],\n",
       " 'zuhanas': 'fall',\n",
       " 'turo': None}"
      ]
     },
     "execution_count": 29,
     "metadata": {},
     "output_type": "execute_result"
    }
   ],
   "source": [
    "dictionary = {\"alma\": \"apple\", \"ablak\": \"window\", \"osz\": [\"fall\", \"autumn\"], \"zuhanas\": \"fall\", \"turo\": None}\n",
    "dictionary"
   ]
  },
  {
   "cell_type": "code",
   "execution_count": 30,
   "metadata": {},
   "outputs": [],
   "source": [
    "with open(\"dictionary\", \"w\", encoding = \"utf-8\") as d:\n",
    "    json.dump(dictionary, d, indent = 4) "
   ]
  }
 ],
 "metadata": {
  "kernelspec": {
   "display_name": "Python 3",
   "language": "python",
   "name": "python3"
  },
  "language_info": {
   "codemirror_mode": {
    "name": "ipython",
    "version": 3
   },
   "file_extension": ".py",
   "mimetype": "text/x-python",
   "name": "python",
   "nbconvert_exporter": "python",
   "pygments_lexer": "ipython3",
   "version": "3.12.5"
  }
 },
 "nbformat": 4,
 "nbformat_minor": 2
}

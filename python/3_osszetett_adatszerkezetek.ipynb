{
 "cells": [
  {
   "cell_type": "markdown",
   "metadata": {},
   "source": [
    "# Összetett adatszerkezetek"
   ]
  },
  {
   "cell_type": "markdown",
   "metadata": {},
   "source": [
    "## Tuple\n",
    "A Tuple egy immutable típus, ami nagyon hasonló a listákhoz:\n",
    "- indexelhető\n",
    "- slice-olható\n",
    "- iterálható\n",
    "- működik rá a `len()` függvény (minden szekvenciára működik)\n",
    "\n",
    "Ellenben nem módosítható:\n",
    "- nincs `append( ... )`\n",
    "- nincs `pop( ... )`\n",
    "- nincs `insert( ... )`\n",
    "- nincs értékadás index alapján, mint: `my_tuple[0] = 4`\n",
    "\n",
    "Létrehozása annyiban különbözik a listákétól, hogy [] zárójelpár helyett sima () zárójel párt használunk:\n",
    "\n",
    "`my_tuple = (1, 2, 3, 4)`\n",
    "\n",
    "De úgy is létrehozhatjuk, hogy egy változóhoz rendelünk több értéket:\n",
    "\n",
    "`my_tuple = \"alma\", \"béka\", \"eper\"`\n",
    "\n",
    "Ezen felül a `tuple()` konverter függvény használhatjuk\n",
    "\n",
    "`my_list = [1, 2, 3, 4]`\n",
    "`my_tuple = tuple(my_list)`\n",
    "\n",
    "Fontos még megjegyezni, hogy a python-i aritmetika miatt az egy elemű tuple definiálása így néz ki:\n",
    "\n",
    "`my_one_element_tuple =(1,)`\n",
    "\n",
    "Ahogy látni, ilyenkor az elemet egy vessző követi, ami után nem következik egyetlen elem sem. Miért van ez így?\n",
    "· Azért, mivel az aritmetikai műveletekben kedvünkre használhatunk zárójelpárokat .:\n",
    "\n",
    "`a =(3 + 2) * (4 * 5)`\n",
    "`b = (5) * 7`\n",
    "\n",
    "Látjuk, hogy a változó esetében a zárójelezés indokolt, b esetében felesleges. Ennek ellenére a python itt a zárójelezést megengedi, csak\n",
    "ignorálja. A python onnan tudhatja, hogy egy zárójelpár egy tuple létrehozását jelenti, hogy , karakter van a zárójelpár között. Tehát, egy eleű\n",
    "esetén is kell ez."
   ]
  },
  {
   "cell_type": "code",
   "execution_count": 92,
   "metadata": {},
   "outputs": [
    {
     "name": "stdout",
     "output_type": "stream",
     "text": [
      "(1, 2, 3, 4)\n"
     ]
    }
   ],
   "source": [
    "my_tuple = (1, 2, 3, 4)\n",
    "print(my_tuple)"
   ]
  },
  {
   "cell_type": "code",
   "execution_count": 93,
   "metadata": {},
   "outputs": [
    {
     "name": "stdout",
     "output_type": "stream",
     "text": [
      "(1, 2, 3, 4)\n"
     ]
    }
   ],
   "source": [
    "my_tuple = 1, 2, 3, 4\n",
    "print(my_tuple)"
   ]
  },
  {
   "cell_type": "code",
   "execution_count": 94,
   "metadata": {},
   "outputs": [
    {
     "name": "stdout",
     "output_type": "stream",
     "text": [
      "(1, 2, 3, 4)\n"
     ]
    }
   ],
   "source": [
    "my_tuple = tuple([1, 2, 3, 4]) # listából konvertáljuk\n",
    "print(my_tuple)"
   ]
  },
  {
   "cell_type": "code",
   "execution_count": 95,
   "metadata": {},
   "outputs": [
    {
     "name": "stdout",
     "output_type": "stream",
     "text": [
      "False\n",
      "True\n"
     ]
    }
   ],
   "source": [
    "print([1, 2, 3, 4,] == (1, 2, 3, 4)) # egyik lista, másik tuple -> nem egyezik\n",
    "print(tuple([1, 2, 3, 4,]) == (1, 2, 3, 4)) # lista tuple-é konvertálva == tuple"
   ]
  },
  {
   "cell_type": "markdown",
   "metadata": {},
   "source": [
    "Egy elemű tuple"
   ]
  },
  {
   "cell_type": "code",
   "execution_count": 96,
   "metadata": {},
   "outputs": [
    {
     "name": "stdout",
     "output_type": "stream",
     "text": [
      "(1,)\t<class 'tuple'>\n",
      "(1,)\t<class 'tuple'>\n",
      "1\t<class 'int'>\n"
     ]
    }
   ],
   "source": [
    "oe_tuple = (1,)\n",
    "oe_tuple_v2 = 1,\n",
    "not_a_tuple = (1)\n",
    "\n",
    "print(f\"{oe_tuple}\\t{type(oe_tuple)}\")\n",
    "print(f\"{oe_tuple_v2}\\t{type(oe_tuple_v2)}\")\n",
    "print(f\"{not_a_tuple}\\t{type(not_a_tuple)}\")"
   ]
  },
  {
   "cell_type": "markdown",
   "metadata": {},
   "source": [
    "Üres tuple"
   ]
  },
  {
   "cell_type": "code",
   "execution_count": 97,
   "metadata": {},
   "outputs": [
    {
     "name": "stdout",
     "output_type": "stream",
     "text": [
      "()\t<class 'tuple'>\n"
     ]
    }
   ],
   "source": [
    "empty_tuple = ()\n",
    "\n",
    "print(f\"{empty_tuple}\\t{type(empty_tuple)}\")"
   ]
  },
  {
   "cell_type": "markdown",
   "metadata": {},
   "source": [
    "Indexelés, slice-olás"
   ]
  },
  {
   "cell_type": "code",
   "execution_count": 98,
   "metadata": {},
   "outputs": [
    {
     "name": "stdout",
     "output_type": "stream",
     "text": [
      "1\n",
      "4\n",
      "(2, 3, 4)\n",
      "(1, 2)\n",
      "(4, 3, 2, 1)\n"
     ]
    }
   ],
   "source": [
    "print(my_tuple[0])\n",
    "print(my_tuple[-1])\n",
    "print(my_tuple[1:])\n",
    "print(my_tuple[:-2])\n",
    "print(my_tuple[::-1])"
   ]
  },
  {
   "cell_type": "markdown",
   "metadata": {},
   "source": [
    "Működő műveletek még az alábbiak:\n",
    "- +: két tuple összeadva, egy új tuple-t eredményez\n",
    "- *: egy tuple egy n számmal megszorozva egy új tuple-t hoz létre, ahol az elemek meg vannak ismételve n-szer\n",
    "- len: ugyanúgy visszaadja a tuple elemszámát\n",
    "- in és not in-nel vizsgalhatóak, hogy egy elem szerepel-e, vagy nem szerepel a tuple-ben."
   ]
  },
  {
   "cell_type": "code",
   "execution_count": 99,
   "metadata": {},
   "outputs": [
    {
     "name": "stdout",
     "output_type": "stream",
     "text": [
      "12\n",
      "(0, 1, 2, 3, 4, 5, 6)\n",
      "(0, 1, 2, 3, 0, 1, 2, 3, 0, 1, 2, 3)\n",
      "True\n",
      "True\n"
     ]
    }
   ],
   "source": [
    "myy_tuple = (0, 1, 2, 3)\n",
    "t1 = myy_tuple + (4, 5, 6)\n",
    "t2 = myy_tuple * 3\n",
    "\n",
    "print(len(t2))\n",
    "print(t1)\n",
    "print(t2)\n",
    "print(3 in myy_tuple)\n",
    "print(100 not in myy_tuple)\n"
   ]
  },
  {
   "cell_type": "code",
   "execution_count": 100,
   "metadata": {},
   "outputs": [
    {
     "name": "stdout",
     "output_type": "stream",
     "text": [
      "(1, 2, 3, 4)\n",
      "(5, 6, 7)\n",
      "(1, 2, 3, 4, 5, 6, 7)\n"
     ]
    }
   ],
   "source": [
    "a = (1, 2, 3, 4)\n",
    "b = (5, 6, 7)\n",
    "c = a + b\n",
    "print(a)\n",
    "print(b)\n",
    "print(c)"
   ]
  },
  {
   "cell_type": "markdown",
   "metadata": {},
   "source": [
    "Attól még, hogy a tuple nem módosítható, átadható egy másik változónak a referenciája:"
   ]
  },
  {
   "cell_type": "code",
   "execution_count": 101,
   "metadata": {},
   "outputs": [
    {
     "name": "stdout",
     "output_type": "stream",
     "text": [
      "('a', 'b', 'c') (1, 2, 3)\n"
     ]
    }
   ],
   "source": [
    "my_tuple_1 = (1, 2, 3)\n",
    "my_tuple_2 = \"a\", \"b\", \"c\"\n",
    "\n",
    "my_tuple_1, my_tuple_2 = my_tuple_2, my_tuple_1\n",
    "print(my_tuple_1, my_tuple_2)"
   ]
  },
  {
   "cell_type": "markdown",
   "metadata": {},
   "source": [
    "### Tuple unpackin"
   ]
  },
  {
   "cell_type": "code",
   "execution_count": 102,
   "metadata": {},
   "outputs": [
    {
     "name": "stdout",
     "output_type": "stream",
     "text": [
      "1\n",
      "2\n"
     ]
    }
   ],
   "source": [
    "my_tuple = (1, 2)\n",
    "a, b = my_tuple\n",
    "print(a)\n",
    "print(b)"
   ]
  },
  {
   "cell_type": "markdown",
   "metadata": {},
   "source": [
    "A pythonban a fenti szintaktikát **Tuple unpacking**-nek nevezik, ely többm indenre is használható, többek között az értékek változók közötti szétbontására."
   ]
  },
  {
   "cell_type": "code",
   "execution_count": 103,
   "metadata": {},
   "outputs": [
    {
     "ename": "ValueError",
     "evalue": "too many values to unpack (expected 2)",
     "output_type": "error",
     "traceback": [
      "\u001b[31m---------------------------------------------------------------------------\u001b[39m",
      "\u001b[31mValueError\u001b[39m                                Traceback (most recent call last)",
      "\u001b[36mCell\u001b[39m\u001b[36m \u001b[39m\u001b[32mIn[103]\u001b[39m\u001b[32m, line 2\u001b[39m\n\u001b[32m      1\u001b[39m \u001b[38;5;66;03m# hibára fut\u001b[39;00m\n\u001b[32m----> \u001b[39m\u001b[32m2\u001b[39m a, b = (\u001b[32m1\u001b[39m, \u001b[32m2\u001b[39m, \u001b[32m3\u001b[39m)\n\u001b[32m      3\u001b[39m \u001b[38;5;28mprint\u001b[39m(a)\n\u001b[32m      4\u001b[39m \u001b[38;5;28mprint\u001b[39m(b)\n",
      "\u001b[31mValueError\u001b[39m: too many values to unpack (expected 2)"
     ]
    }
   ],
   "source": [
    "# hibára fut\n",
    "a, b = (1, 2, 3)\n",
    "print(a)\n",
    "print(b)"
   ]
  },
  {
   "cell_type": "markdown",
   "metadata": {},
   "source": [
    "A `*` karakter használva megadhatjuk, hogy az utolsó változó értéke legyen minden fennmaradó, vagy épp nem létező érték"
   ]
  },
  {
   "cell_type": "code",
   "execution_count": null,
   "metadata": {},
   "outputs": [
    {
     "name": "stdout",
     "output_type": "stream",
     "text": [
      "1\n",
      "2\n",
      "[3, 4]\n"
     ]
    }
   ],
   "source": [
    "# megoldás\n",
    "a, b, *c = (1, 2, 3, 4)\n",
    "print(a)\n",
    "print(b)\n",
    "print(c)"
   ]
  },
  {
   "cell_type": "code",
   "execution_count": null,
   "metadata": {},
   "outputs": [
    {
     "name": "stdout",
     "output_type": "stream",
     "text": [
      "1\n",
      "2\n",
      "[]\n"
     ]
    }
   ],
   "source": [
    "a, b, *c = (1, 2)\n",
    "print(a)\n",
    "print(b)\n",
    "print(c) # üres lista lesz"
   ]
  },
  {
   "cell_type": "markdown",
   "metadata": {},
   "source": [
    "Ez mindig egy lista lesz, és képes kezelni azokat az eseteket is, mikor már nem maradt további érték:\n",
    "`my_tuple = (0, 1, 2, 3, 4, 5, 6, 7, 8, 9, 10)`\n",
    "`a, b, *c, d, e, f = my_tuple`\n",
    "\n",
    "A `*`- os változónak nem kell a végén szerepelnie. Amennyiben nem a végén szerepel:\n",
    "- az előtte lévő változók kiveszik a maguknak sorrend szerint értékeit a tuple-ből\n",
    "    - `a` értéke `my_tuple[0]` lesz\n",
    "    - `b` értéke `my_tuple[1]` lesz\n",
    "    - ugrunk, mivel ahhoz, hogy tudjuk, hogy mi lesz c értéke, még az azt követő változóknak el kell venniük a maguk részét\n",
    "    - `f` értéke `my_tuple[-1]` lesz\n",
    "    - `e` értéke `my_tuple[-2]` lesz\n",
    "    - `d` értéke `my_tuple[-3]` lesz\n",
    "    - Ahogy látjuk, ami maradt az a `my_tuple[2: -3]`, ezek az értékek lesznek `c` változóhoz rendelve.\n",
    "    \n",
    "A fentiek miatt láthatjuk, hogy egy ilyen unpacking-be csak egy `*`- os kifejezés kerülhet, máskülönben nem egyértelmű, hogy hogyan\n",
    "osszuk szét a változókat."
   ]
  },
  {
   "cell_type": "code",
   "execution_count": null,
   "metadata": {},
   "outputs": [
    {
     "name": "stdout",
     "output_type": "stream",
     "text": [
      "1\n",
      "2\n",
      "[3, 4, 5, 6, 7, 8]\n",
      "9\n",
      "10\n"
     ]
    }
   ],
   "source": [
    "my_tuple = (1, 2, 3, 4, 5, 6, 7, 8, 9, 10)\n",
    "a, b, *c, d, e = my_tuple\n",
    "print(a)\n",
    "print(b)\n",
    "print(c)\n",
    "print(d)\n",
    "print(e)"
   ]
  },
  {
   "cell_type": "markdown",
   "metadata": {},
   "source": []
  },
  {
   "cell_type": "markdown",
   "metadata": {},
   "source": [
    "Az unpacking használható listák összefűzésére is"
   ]
  },
  {
   "cell_type": "code",
   "execution_count": null,
   "metadata": {},
   "outputs": [
    {
     "name": "stdout",
     "output_type": "stream",
     "text": [
      "[1, 2, 3, 4, 5, 6, 7, 8]\n"
     ]
    }
   ],
   "source": [
    "l1 = [1, 2, 3, 4]\n",
    "l2 = [5, 6 ,7 ,8]\n",
    "comb = [*l1, *l2]\n",
    "print(comb)"
   ]
  },
  {
   "cell_type": "markdown",
   "metadata": {},
   "source": [
    "Comprehension tuple-öknél nem működik! "
   ]
  },
  {
   "cell_type": "code",
   "execution_count": null,
   "metadata": {},
   "outputs": [
    {
     "data": {
      "text/plain": [
       "[0, 3, 6, 9, 12, 15, 18, 21, 24, 27, 30]"
      ]
     },
     "execution_count": 24,
     "metadata": {},
     "output_type": "execute_result"
    }
   ],
   "source": [
    "# listáknál működött\n",
    "[x for x in range(0, 33, 3)]"
   ]
  },
  {
   "cell_type": "code",
   "execution_count": null,
   "metadata": {},
   "outputs": [
    {
     "data": {
      "text/plain": [
       "<generator object <genexpr> at 0x00000293757A3E80>"
      ]
     },
     "execution_count": 25,
     "metadata": {},
     "output_type": "execute_result"
    }
   ],
   "source": [
    "# tuple-öknél a comprehension nem működik\n",
    "(x for x in range(0, 33, 3))"
   ]
  },
  {
   "cell_type": "markdown",
   "metadata": {},
   "source": [
    "#### zip\n",
    "Fog 2 ugyanolyan hosszú iterálható objektumot, és az adott elemeiből párokat fog alkotni, amikből egyenként tuple-ök lesznek.\n",
    "Tehát: \n",
    "- két (vagy több) iterálható objektumot vesz át (pl. listák, tuple-ök, stringek),\n",
    "- és az azonos indexű elemeikből tuple-öket alkot,\n",
    "- majd ezekből egy iterátort ad vissza.\n",
    "\n",
    "A zip() a legrövidebb bemenet hosszáig párosít. Ha az egyik lista hosszabb, a többi elem elveszik:"
   ]
  },
  {
   "cell_type": "code",
   "execution_count": null,
   "metadata": {},
   "outputs": [
    {
     "name": "stdout",
     "output_type": "stream",
     "text": [
      "[(1, 'a'), (2, 'b'), (3, 'c'), (4, 'd')]\n",
      "(1, 'a')\n"
     ]
    }
   ],
   "source": [
    "keys = [1, 2, 3, 4]\n",
    "values = [\"a\", \"b\", \"c\", \"d\"]\n",
    "\n",
    "items = list(zip(keys, values))\n",
    "print(items)\n",
    "print(items[0])"
   ]
  },
  {
   "cell_type": "markdown",
   "metadata": {},
   "source": [
    "enumerate is hasonló módon működik"
   ]
  },
  {
   "cell_type": "code",
   "execution_count": null,
   "metadata": {},
   "outputs": [
    {
     "name": "stdout",
     "output_type": "stream",
     "text": [
      "[0, 1, 2]\n",
      "<zip object at 0x0000029375C9A1C0>\n",
      "[(0, 'alma'), (1, 'körte'), (2, 'barack')]\n"
     ]
    }
   ],
   "source": [
    "lista = [\"alma\", \"körte\", \"barack\"]\n",
    "print(list(range(len(lista))))\n",
    "print(zip(range(len(lista)), lista)) # önmagában a zip-et nem lehet kiírni -> ez így hibára fut\n",
    "print(list(zip(range(len(lista)), lista)))\n"
   ]
  },
  {
   "cell_type": "code",
   "execution_count": null,
   "metadata": {},
   "outputs": [
    {
     "name": "stdout",
     "output_type": "stream",
     "text": [
      "0 alma\n",
      "1 körte\n",
      "2 barack\n"
     ]
    }
   ],
   "source": [
    "lista = [\"alma\", \"körte\", \"barack\"]\n",
    "for i, element in zip(range(len(lista)), lista):\n",
    "    print(i, element)\n"
   ]
  },
  {
   "cell_type": "markdown",
   "metadata": {},
   "source": [
    "#### enumerate"
   ]
  },
  {
   "cell_type": "code",
   "execution_count": null,
   "metadata": {},
   "outputs": [
    {
     "name": "stdout",
     "output_type": "stream",
     "text": [
      "0. elem:, alma\n",
      "1. elem:, körte\n",
      "2. elem:, barack\n"
     ]
    }
   ],
   "source": [
    "elements = [\"alma\", \"körte\", \"barack\"]\n",
    "for i, element in enumerate(elements):\n",
    "    print(f\"{i}. elem:, {element}\")"
   ]
  },
  {
   "cell_type": "markdown",
   "metadata": {},
   "source": [
    "## Dictionary-k / Dict-ek\n",
    "A dictionary egy python adatstruktúra. Bár nem szekvencia, de sok, a szekvenciákra jellemző műveletet támogat.\n",
    "\n",
    "Az analógia másik oldalát tekintve a szó amit keresünk, az a kulcs avagy `key`, a fordítás pedig az érték, azaz `value`. Emaitt a dictionary-ket **kulcs-érték**, vagy **key-value** tárolóknak is hívjuk.\n",
    "\n",
    "A dictionary tulajdonságai:\n",
    "- A kulcs egyedi - akárcsak egy szótárban. Az \"ősz\" kulcs egyszer szerepel, ha ennek több jelentése van, mint \"fall\", vagy \"gray\", akkor azok az \"ősz\" kulcs alatt vannak listázva\n",
    "- Az érték nem kell, hogy egyedi legyen. Mint a szótárban is, a \"Fall\" szó tartozhat az \"ősz\" és a \"zuhanás\" kulcsokhoz is.\n",
    "- A kulcs bármilyen primitív típus lehet. Ilyenek a sztring, az int, a float, vagy bool is, de összetett típusú, mint mondjuk lista nem lehet.\n",
    "- a `len()` függvény a dictionary-k esetén a kulcs-érték párok számát adja vissza\n",
    "- A dictionary-kből kulcs alapján lekérdezhető az érték (mivel a kulcs egyedi), fordítva viszont nem működik (mivel a value nem feltétlen egyedi)\n",
    "\n",
    "Creating dictionaries:\n",
    "- a dictionary-ket `{}` kunkori-zárójelpár között tudjuk definiálni\n",
    "- egy kulcsot és annak értékét `:` karakterrel választjuk el egymástól\n",
    "- a kulcs-érték párokat, azaz az elemeket pedig szokás szerint `,` karakterrel"
   ]
  },
  {
   "cell_type": "code",
   "execution_count": null,
   "metadata": {},
   "outputs": [
    {
     "data": {
      "text/plain": [
       "{'alma': 'apple',\n",
       " 'ablak': 'window',\n",
       " 'ősz': ['fall', 'autumn'],\n",
       " 'zuhanás': 'fall'}"
      ]
     },
     "execution_count": 61,
     "metadata": {},
     "output_type": "execute_result"
    }
   ],
   "source": [
    "dictionary = {\"alma\": \"apple\", \"ablak\": \"window\", \"ősz\": [\"fall\", \"autumn\"], \"zuhanás\": \"fall\"}\n",
    "dictionary"
   ]
  },
  {
   "cell_type": "code",
   "execution_count": null,
   "metadata": {},
   "outputs": [
    {
     "data": {
      "text/plain": [
       "['fall', 'autumn']"
      ]
     },
     "execution_count": 19,
     "metadata": {},
     "output_type": "execute_result"
    }
   ],
   "source": [
    "dictionary[\"ősz\"]"
   ]
  },
  {
   "cell_type": "code",
   "execution_count": null,
   "metadata": {},
   "outputs": [
    {
     "data": {
      "text/plain": [
       "True"
      ]
     },
     "execution_count": 22,
     "metadata": {},
     "output_type": "execute_result"
    }
   ],
   "source": [
    "\"ablak\" in dictionary"
   ]
  },
  {
   "cell_type": "code",
   "execution_count": null,
   "metadata": {},
   "outputs": [
    {
     "data": {
      "text/plain": [
       "False"
      ]
     },
     "execution_count": 24,
     "metadata": {},
     "output_type": "execute_result"
    }
   ],
   "source": [
    "\"window\" in dictionary # false, mert értékként szerepel, nem kulcsként"
   ]
  },
  {
   "cell_type": "code",
   "execution_count": null,
   "metadata": {},
   "outputs": [
    {
     "data": {
      "text/plain": [
       "{'alma': 'apple',\n",
       " 'ablak': 'window',\n",
       " 'ősz': ['fall', 'autumn'],\n",
       " 'zuhanás': 'fall',\n",
       " 'körte': 'bulb'}"
      ]
     },
     "execution_count": 27,
     "metadata": {},
     "output_type": "execute_result"
    }
   ],
   "source": [
    "# értékadás\n",
    "dictionary[\"körte\"] = \"bulb\"\n",
    "dictionary"
   ]
  },
  {
   "cell_type": "code",
   "execution_count": null,
   "metadata": {},
   "outputs": [
    {
     "data": {
      "text/plain": [
       "{'alma': 'apple',\n",
       " 'ablak': 'window',\n",
       " 'ősz': ['fall', 'autumn'],\n",
       " 'zuhanás': 'fall',\n",
       " 'körte': 'pear'}"
      ]
     },
     "execution_count": 62,
     "metadata": {},
     "output_type": "execute_result"
    }
   ],
   "source": [
    "# felüldefiniálás\n",
    "dictionary[\"körte\"] = \"pear\"\n",
    "dictionary"
   ]
  },
  {
   "cell_type": "code",
   "execution_count": null,
   "metadata": {},
   "outputs": [
    {
     "data": {
      "text/plain": [
       "{'a': 99}"
      ]
     },
     "execution_count": 30,
     "metadata": {},
     "output_type": "execute_result"
    }
   ],
   "source": [
    "d = {\"a\": 99}\n",
    "d"
   ]
  },
  {
   "cell_type": "code",
   "execution_count": null,
   "metadata": {},
   "outputs": [
    {
     "data": {
      "text/plain": [
       "{'a': 99, 'b': 0}"
      ]
     },
     "execution_count": 32,
     "metadata": {},
     "output_type": "execute_result"
    }
   ],
   "source": [
    "d.setdefault(\"a\", 0) # \"a\" értéke legyen 0, ha nem létezik még\n",
    "d.setdefault(\"b\", 0) # \"b\" értéke legyen 0, ha nem létezik még\n",
    "d"
   ]
  },
  {
   "cell_type": "code",
   "execution_count": null,
   "metadata": {},
   "outputs": [
    {
     "data": {
      "text/plain": [
       "99"
      ]
     },
     "execution_count": 38,
     "metadata": {},
     "output_type": "execute_result"
    }
   ],
   "source": [
    "# ennek if-es megfelelője:\n",
    "if \"a\" not in d:\n",
    "    d[\"a\"] = 0\n",
    "d[\"a\"]"
   ]
  },
  {
   "cell_type": "code",
   "execution_count": null,
   "metadata": {},
   "outputs": [
    {
     "name": "stdout",
     "output_type": "stream",
     "text": [
      "99\n",
      "0\n",
      "1111\n"
     ]
    }
   ],
   "source": [
    "print(d.get(\"a\", 1111)) # \"a\" benne van, visszatér 999\n",
    "print(d.get(\"b\", 1111)) # \"b\" benne van, visszatér 0\n",
    "print(d.get(\"c\", 1111)) # \"c\" nincs benne, visszatér 1111, de ez csak lekérdezésre szolgál, tehát a d dict-be ettől még nem kerül bele "
   ]
  },
  {
   "cell_type": "code",
   "execution_count": null,
   "metadata": {},
   "outputs": [
    {
     "data": {
      "text/plain": [
       "{'a': 99, 'b': 0}"
      ]
     },
     "execution_count": 42,
     "metadata": {},
     "output_type": "execute_result"
    }
   ],
   "source": [
    "d"
   ]
  },
  {
   "cell_type": "markdown",
   "metadata": {},
   "source": [
    "#### dict-ek iterálása"
   ]
  },
  {
   "cell_type": "code",
   "execution_count": null,
   "metadata": {},
   "outputs": [
    {
     "name": "stdout",
     "output_type": "stream",
     "text": [
      "alma \t apple\n",
      "ablak \t window\n",
      "ősz \t ['fall', 'autumn']\n",
      "zuhanás \t fall\n",
      "körte \t pear\n"
     ]
    }
   ],
   "source": [
    "for key in dictionary:\n",
    "    print(key, \"\\t\", dictionary[key])"
   ]
  },
  {
   "cell_type": "code",
   "execution_count": null,
   "metadata": {},
   "outputs": [
    {
     "name": "stdout",
     "output_type": "stream",
     "text": [
      "alma \t apple\n",
      "ablak \t window\n",
      "ősz \t ['fall', 'autumn']\n",
      "zuhanás \t fall\n",
      "körte \t pear\n"
     ]
    }
   ],
   "source": [
    "for key, value in dictionary.items():\n",
    "    print(key, \"\\t\", value)"
   ]
  },
  {
   "cell_type": "code",
   "execution_count": null,
   "metadata": {},
   "outputs": [
    {
     "name": "stdout",
     "output_type": "stream",
     "text": [
      "dict_items([('alma', 'apple'), ('ablak', 'window'), ('ősz', ['fall', 'autumn']), ('zuhanás', 'fall'), ('körte', 'pear')])\n"
     ]
    }
   ],
   "source": [
    "print(dictionary.items()) "
   ]
  },
  {
   "cell_type": "code",
   "execution_count": null,
   "metadata": {},
   "outputs": [
    {
     "ename": "TypeError",
     "evalue": "'dict_items' object is not subscriptable",
     "output_type": "error",
     "traceback": [
      "\u001b[31m---------------------------------------------------------------------------\u001b[39m",
      "\u001b[31mTypeError\u001b[39m                                 Traceback (most recent call last)",
      "\u001b[36mCell\u001b[39m\u001b[36m \u001b[39m\u001b[32mIn[49]\u001b[39m\u001b[32m, line 1\u001b[39m\n\u001b[32m----> \u001b[39m\u001b[32m1\u001b[39m \u001b[43mdictionary\u001b[49m\u001b[43m.\u001b[49m\u001b[43mitems\u001b[49m\u001b[43m(\u001b[49m\u001b[43m)\u001b[49m\u001b[43m[\u001b[49m\u001b[32;43m0\u001b[39;49m\u001b[43m]\u001b[49m \u001b[38;5;66;03m# nem lehet indexelni!\u001b[39;00m\n",
      "\u001b[31mTypeError\u001b[39m: 'dict_items' object is not subscriptable"
     ]
    }
   ],
   "source": [
    "dictionary.items()[0] # nem lehet indexálni!"
   ]
  },
  {
   "cell_type": "code",
   "execution_count": null,
   "metadata": {},
   "outputs": [
    {
     "data": {
      "text/plain": [
       "[('alma', 'apple'),\n",
       " ('ablak', 'window'),\n",
       " ('ősz', ['fall', 'autumn']),\n",
       " ('zuhanás', 'fall'),\n",
       " ('körte', 'pear')]"
      ]
     },
     "execution_count": 51,
     "metadata": {},
     "output_type": "execute_result"
    }
   ],
   "source": [
    "list(dictionary.items()) # listává konvertálás"
   ]
  },
  {
   "cell_type": "code",
   "execution_count": null,
   "metadata": {},
   "outputs": [
    {
     "data": {
      "text/plain": [
       "('ősz', ['fall', 'autumn'])"
      ]
     },
     "execution_count": 53,
     "metadata": {},
     "output_type": "execute_result"
    }
   ],
   "source": [
    "list(dictionary.items())[2] # így már lehet indexálni"
   ]
  },
  {
   "cell_type": "code",
   "execution_count": null,
   "metadata": {},
   "outputs": [
    {
     "name": "stdout",
     "output_type": "stream",
     "text": [
      "('a', (1, 2))\n",
      "a\n",
      "1\n",
      "2\n"
     ]
    }
   ],
   "source": [
    "my_tuple = (1, 2)\n",
    "my_outer_touple = (\"a\", my_tuple)\n",
    "a, (b, c) = my_outer_touple\n",
    "\n",
    "print(my_outer_touple)\n",
    "print(a)\n",
    "print(b)\n",
    "print(c)"
   ]
  },
  {
   "cell_type": "code",
   "execution_count": null,
   "metadata": {},
   "outputs": [
    {
     "data": {
      "text/plain": [
       "{'alma': 'apple',\n",
       " 'ablak': 'window',\n",
       " 'ősz': ['fall', 'autumn'],\n",
       " 'zuhanás': 'fall',\n",
       " 'körte': 'pear'}"
      ]
     },
     "execution_count": 65,
     "metadata": {},
     "output_type": "execute_result"
    }
   ],
   "source": [
    "dictionary"
   ]
  },
  {
   "cell_type": "code",
   "execution_count": null,
   "metadata": {},
   "outputs": [
    {
     "data": {
      "text/plain": [
       "dict_keys(['alma', 'ablak', 'ősz', 'zuhanás', 'körte'])"
      ]
     },
     "execution_count": 73,
     "metadata": {},
     "output_type": "execute_result"
    }
   ],
   "source": [
    "dictionary.keys()"
   ]
  },
  {
   "cell_type": "code",
   "execution_count": null,
   "metadata": {},
   "outputs": [
    {
     "data": {
      "text/plain": [
       "dict_values(['apple', 'window', ['fall', 'autumn'], 'fall', 'pear'])"
      ]
     },
     "execution_count": 75,
     "metadata": {},
     "output_type": "execute_result"
    }
   ],
   "source": [
    "dictionary.values()"
   ]
  },
  {
   "cell_type": "code",
   "execution_count": null,
   "metadata": {},
   "outputs": [
    {
     "name": "stdout",
     "output_type": "stream",
     "text": [
      "0 alma apple\n",
      "1 ablak window\n",
      "2 ősz ['fall', 'autumn']\n",
      "3 zuhanás fall\n",
      "4 körte pear\n"
     ]
    }
   ],
   "source": [
    "for i, (key, value) in enumerate(dictionary.items()):\n",
    "    print(i, key, value)"
   ]
  },
  {
   "cell_type": "code",
   "execution_count": null,
   "metadata": {},
   "outputs": [
    {
     "name": "stdout",
     "output_type": "stream",
     "text": [
      "1 a 1 2\n",
      "2 b 3 4\n",
      "3 c 5 6\n"
     ]
    }
   ],
   "source": [
    "tuple_dict = {\"a\": (1, 2), \"b\": (3, 4), \"c\": (5, 6)}\n",
    "\n",
    "for i, (key, (v1, v2)) in enumerate(tuple_dict.items()):\n",
    "    print(i+1, key, v1, v2)"
   ]
  },
  {
   "cell_type": "code",
   "execution_count": null,
   "metadata": {},
   "outputs": [
    {
     "data": {
      "text/plain": [
       "[('alma', 'apple'),\n",
       " ('ablak', 'window'),\n",
       " ('ősz', ['fall', 'autumn']),\n",
       " ('zuhanás', 'fall'),\n",
       " ('körte', 'pear')]"
      ]
     },
     "execution_count": 78,
     "metadata": {},
     "output_type": "execute_result"
    }
   ],
   "source": [
    "list(zip(dictionary.keys(), dictionary.values()))"
   ]
  },
  {
   "cell_type": "code",
   "execution_count": null,
   "metadata": {},
   "outputs": [
    {
     "data": {
      "text/plain": [
       "[(1, 'a', True), (2, 'b', False), (3, 'c', True), (4, 'd', False)]"
      ]
     },
     "execution_count": 79,
     "metadata": {},
     "output_type": "execute_result"
    }
   ],
   "source": [
    "a = [1, 2, 3, 4]\n",
    "b = [\"a\", \"b\", \"c\", \"d\"]\n",
    "c = [True, False, True, False]\n",
    "list(zip(a, b ,c))"
   ]
  },
  {
   "cell_type": "markdown",
   "metadata": {},
   "source": [
    "dictionary-knél az `append()` metódus nem működik, azonban a `pop()` igen"
   ]
  },
  {
   "cell_type": "code",
   "execution_count": 126,
   "metadata": {},
   "outputs": [
    {
     "data": {
      "text/plain": [
       "{'a': 99}"
      ]
     },
     "execution_count": 126,
     "metadata": {},
     "output_type": "execute_result"
    }
   ],
   "source": [
    "d2 = {\"a\": 99}\n",
    "d2"
   ]
  },
  {
   "cell_type": "code",
   "execution_count": 123,
   "metadata": {},
   "outputs": [
    {
     "ename": "AttributeError",
     "evalue": "'dict' object has no attribute 'append'",
     "output_type": "error",
     "traceback": [
      "\u001b[31m---------------------------------------------------------------------------\u001b[39m",
      "\u001b[31mAttributeError\u001b[39m                            Traceback (most recent call last)",
      "\u001b[36mCell\u001b[39m\u001b[36m \u001b[39m\u001b[32mIn[123]\u001b[39m\u001b[32m, line 1\u001b[39m\n\u001b[32m----> \u001b[39m\u001b[32m1\u001b[39m \u001b[43md2\u001b[49m\u001b[43m.\u001b[49m\u001b[43mappend\u001b[49m(\u001b[33m\"\u001b[39m\u001b[33ma\u001b[39m\u001b[33m\"\u001b[39m)\n",
      "\u001b[31mAttributeError\u001b[39m: 'dict' object has no attribute 'append'"
     ]
    }
   ],
   "source": [
    "d2.append(\"a\")"
   ]
  },
  {
   "cell_type": "code",
   "execution_count": null,
   "metadata": {},
   "outputs": [],
   "source": [
    "deleted = d2.pop(\"a\") # olyan metódus, hogy megadhatok neki paraméternek egy kulcsot, mellékhatásaként törli ezt a kulcsot a dict-ből\n",
    "# és visszatérési értékként a kulcshoz tartozó value-t visszaadja"
   ]
  },
  {
   "cell_type": "code",
   "execution_count": 129,
   "metadata": {},
   "outputs": [
    {
     "data": {
      "text/plain": [
       "99"
      ]
     },
     "execution_count": 129,
     "metadata": {},
     "output_type": "execute_result"
    }
   ],
   "source": [
    "deleted # visszatérési értéke"
   ]
  },
  {
   "cell_type": "markdown",
   "metadata": {},
   "source": [
    "a dictionary-k is referencia típusúak"
   ]
  },
  {
   "cell_type": "code",
   "execution_count": 134,
   "metadata": {},
   "outputs": [
    {
     "name": "stdout",
     "output_type": "stream",
     "text": [
      "{'a': 1, 'b': 2}\n",
      "{'a': 1, 'b': 2, 'c': 3}\n",
      "{'a': 1, 'b': 2, 'c': 3}\n"
     ]
    }
   ],
   "source": [
    "dict_1 = {\"a\": 1, \"b\": 2}\n",
    "dict_2 = dict_1\n",
    "\n",
    "print(dict_1)\n",
    "dict_2[\"c\"] = 3\n",
    "\n",
    "print(dict_1)\n",
    "print(dict_2)"
   ]
  },
  {
   "cell_type": "code",
   "execution_count": 136,
   "metadata": {},
   "outputs": [
    {
     "name": "stdout",
     "output_type": "stream",
     "text": [
      "{'a': 1, 'b': 2}\n",
      "{'a': 1, 'b': 2}\n",
      "{'a': 1, 'b': 2, 'c': 3}\n"
     ]
    }
   ],
   "source": [
    "dict_1 = {\"a\": 1, \"b\": 2}\n",
    "dict_2 = dict_1.copy()\n",
    "\n",
    "print(dict_1)\n",
    "dict_2[\"c\"] = 3\n",
    "\n",
    "print(dict_1)\n",
    "print(dict_2)"
   ]
  },
  {
   "cell_type": "markdown",
   "metadata": {},
   "source": [
    "#### dict comprehension"
   ]
  },
  {
   "cell_type": "code",
   "execution_count": 147,
   "metadata": {},
   "outputs": [
    {
     "data": {
      "text/plain": [
       "{0: 0, 1: 1, 2: 4, 3: 9, 4: 16, 5: 25, 6: 36, 7: 49, 8: 64, 9: 81}"
      ]
     },
     "execution_count": 147,
     "metadata": {},
     "output_type": "execute_result"
    }
   ],
   "source": [
    "negyzetek = {i: i ** 2 for i in range(10)}\n",
    "negyzetek"
   ]
  },
  {
   "cell_type": "code",
   "execution_count": null,
   "metadata": {},
   "outputs": [
    {
     "data": {
      "text/plain": [
       "36"
      ]
     },
     "execution_count": 148,
     "metadata": {},
     "output_type": "execute_result"
    }
   ],
   "source": [
    "negyzetek[6] "
   ]
  },
  {
   "cell_type": "code",
   "execution_count": null,
   "metadata": {},
   "outputs": [],
   "source": [
    "items = [(\"a\", 1), (\"b\", 2), (\"c\", 3), (\"d\", 4)]\n",
    "\n",
    "my_dict = {}\n",
    "for key, value in items:\n",
    "    my_dict[key] = value\n",
    "\n",
    "print(my_dict)"
   ]
  },
  {
   "cell_type": "code",
   "execution_count": null,
   "metadata": {},
   "outputs": [],
   "source": [
    "items = [(\"a\", 1), (\"b\", 2), (\"c\", 3), (\"d\", 4)]\n",
    "my_dict = {item[0]: item[1] for item in items}\n",
    "print(my_dict)"
   ]
  },
  {
   "cell_type": "code",
   "execution_count": null,
   "metadata": {},
   "outputs": [],
   "source": [
    "items = [(\"a\", 1), (\"b\", 2), (\"c\", 3), (\"d\", 4)]\n",
    "my_dict = {key: value for key, value in items}\n",
    "print(my_dict)"
   ]
  },
  {
   "cell_type": "markdown",
   "metadata": {},
   "source": [
    "#### String műveletek\n",
    "`.replace()`"
   ]
  },
  {
   "cell_type": "code",
   "execution_count": 4,
   "metadata": {},
   "outputs": [
    {
     "name": "stdout",
     "output_type": "stream",
     "text": [
      "*lm*, * f* *l*tt\n",
      "körte a fa alatt, nyári piros körte\n",
      "körte a fa alatt, nyári sárga körte\n",
      "korte korte alma alma\n"
     ]
    }
   ],
   "source": [
    "# a replace-el sztringekben cserélhetünk le szubsztringeket\n",
    "# például az \"a\" betűket\n",
    "print(\"alma, a fa alatt\".replace(\"a\", \"*\"))\n",
    "\n",
    "# Vagy akár az almát körtére\n",
    "print(\"alma a fa alatt, nyári piros alma\".replace(\"alma\", \"körte\"))\n",
    "\n",
    "# Vagy akár több dolgot is\n",
    "print(\"alma a fa alatt, nyári piros alma\".replace(\"alma\", \"körte\").replace(\"piros\", \"sárga\"))\n",
    "\n",
    "# Megadható, hogy maximum hány előfordulást cseréljen le\n",
    "print(\"alma alma alma alma\".replace(\"alma\", \"korte\", 2))"
   ]
  },
  {
   "cell_type": "markdown",
   "metadata": {},
   "source": [
    "`.strip()`"
   ]
  },
  {
   "cell_type": "code",
   "execution_count": null,
   "metadata": {},
   "outputs": [
    {
     "name": "stdout",
     "output_type": "stream",
     "text": [
      " alma a fa alatt     \n",
      "\talma a fa alatt\t   \n",
      "\n",
      "alma\n"
     ]
    }
   ],
   "source": [
    "# tegyük fel, hogy vannak szövegeink tele felesleges tabokkal, szóközökkel a szövgek elején és végén:\n",
    "string_with_spaces = \" alma a fa alatt     \"\n",
    "string_with_tabulators = \"\\talma a fa alatt\\t\"\n",
    "string_with_new_line = \"\\nalma\"\n",
    "print(string_with_spaces)\n",
    "print(string_with_tabulators)\n",
    "print(string_with_new_line)"
   ]
  },
  {
   "cell_type": "code",
   "execution_count": 10,
   "metadata": {},
   "outputs": [
    {
     "name": "stdout",
     "output_type": "stream",
     "text": [
      "alma a fa alatt\n",
      "alma a fa alatt\n",
      "alma\n"
     ]
    }
   ],
   "source": [
    "print(string_with_spaces.strip())\n",
    "print(string_with_tabulators.strip())\n",
    "print(string_with_new_line.strip())"
   ]
  },
  {
   "cell_type": "code",
   "execution_count": 11,
   "metadata": {},
   "outputs": [
    {
     "name": "stdout",
     "output_type": "stream",
     "text": [
      "alma a fa alatt     \n",
      " alma a fa alatt\n"
     ]
    }
   ],
   "source": [
    "print(string_with_spaces.lstrip()) # csak a baloldalról töröl\n",
    "print(string_with_spaces.rstrip()) # csak a jobb oldalról töröl"
   ]
  },
  {
   "cell_type": "markdown",
   "metadata": {},
   "source": [
    "`endswith()`"
   ]
  },
  {
   "cell_type": "code",
   "execution_count": 14,
   "metadata": {},
   "outputs": [
    {
     "data": {
      "text/plain": [
       "True"
      ]
     },
     "execution_count": 14,
     "metadata": {},
     "output_type": "execute_result"
    }
   ],
   "source": [
    "\"file.ipynb\".endswith(\".ipynb\")"
   ]
  },
  {
   "cell_type": "code",
   "execution_count": 15,
   "metadata": {},
   "outputs": [
    {
     "data": {
      "text/plain": [
       "False"
      ]
     },
     "execution_count": 15,
     "metadata": {},
     "output_type": "execute_result"
    }
   ],
   "source": [
    "\"file.ipynb\".endswith(\".txt\")"
   ]
  },
  {
   "cell_type": "markdown",
   "metadata": {},
   "source": [
    "#### Egyéb általános célú függvények\n",
    "`map()` - segítségével függyvényt tudunk alkalmazni egy szekvenciára"
   ]
  },
  {
   "cell_type": "code",
   "execution_count": 18,
   "metadata": {},
   "outputs": [
    {
     "name": "stdout",
     "output_type": "stream",
     "text": [
      "1\n",
      "2\n",
      "5\n",
      "10\n",
      "17\n",
      "26\n",
      "37\n",
      "50\n",
      "65\n",
      "82\n"
     ]
    }
   ],
   "source": [
    "square_plus_one = lambda number: number ** 2 + 1\n",
    "\n",
    "for number in map(square_plus_one, range(10)):\n",
    "    print(number)"
   ]
  },
  {
   "cell_type": "markdown",
   "metadata": {},
   "source": [
    " `filter()`"
   ]
  },
  {
   "cell_type": "code",
   "execution_count": 24,
   "metadata": {},
   "outputs": [
    {
     "name": "stdout",
     "output_type": "stream",
     "text": [
      "[0, 1, 2, 3, 4, 5, 6, 7, 8, 9, 10, 11, 12, 13, 14]\n",
      "[0, 2, 4, 6, 8, 10, 12, 14]\n"
     ]
    }
   ],
   "source": [
    "is_even = lambda x: x % 2 == 0\n",
    "numbers = list(range(15))\n",
    "evens = list(filter(is_even, numbers))\n",
    "\n",
    "print(numbers)\n",
    "print(evens)"
   ]
  },
  {
   "cell_type": "markdown",
   "metadata": {},
   "source": [
    "`sorted()`"
   ]
  },
  {
   "cell_type": "code",
   "execution_count": 25,
   "metadata": {},
   "outputs": [
    {
     "data": {
      "text/plain": [
       "[1, 2, 4, 7, 8, 9, 123]"
      ]
     },
     "execution_count": 25,
     "metadata": {},
     "output_type": "execute_result"
    }
   ],
   "source": [
    "sorted([2, 4, 1, 8, 9, 123, 7])"
   ]
  }
 ],
 "metadata": {
  "kernelspec": {
   "display_name": "Python 3",
   "language": "python",
   "name": "python3"
  },
  "language_info": {
   "codemirror_mode": {
    "name": "ipython",
    "version": 3
   },
   "file_extension": ".py",
   "mimetype": "text/x-python",
   "name": "python",
   "nbconvert_exporter": "python",
   "pygments_lexer": "ipython3",
   "version": "3.12.5"
  }
 },
 "nbformat": 4,
 "nbformat_minor": 2
}

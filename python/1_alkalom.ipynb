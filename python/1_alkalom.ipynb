{
 "cells": [
  {
   "cell_type": "markdown",
   "metadata": {},
   "source": [
    "Markdown cella: kommentek, szövegek hozzáadására szolgál\n",
    "\n",
    "A kód cellákba tudunk python kifejezéseket tenni és futtatni\n",
    "\n",
    "Futtatás: Ctrl + Enter \n",
    "\n",
    "Futtatás és következőre ugrás: Shift + Enter"
   ]
  },
  {
   "cell_type": "markdown",
   "metadata": {},
   "source": [
    "# print()"
   ]
  },
  {
   "cell_type": "code",
   "execution_count": 3,
   "metadata": {},
   "outputs": [
    {
     "name": "stdout",
     "output_type": "stream",
     "text": [
      "Hello world\n"
     ]
    }
   ],
   "source": [
    "print(\"Hello world\")"
   ]
  },
  {
   "cell_type": "code",
   "execution_count": 4,
   "metadata": {},
   "outputs": [
    {
     "data": {
      "text/plain": [
       "'alma'"
      ]
     },
     "execution_count": 4,
     "metadata": {},
     "output_type": "execute_result"
    }
   ],
   "source": [
    "# Jupyter nootebook-ok sajátossága, hogy a print-et nem kell használni, a string az kiíródik. De ilyenkor mindig csak az utolsót írja ki\n",
    "\"Hello world\"\n",
    "'alma'"
   ]
  },
  {
   "cell_type": "code",
   "execution_count": 5,
   "metadata": {},
   "outputs": [
    {
     "name": "stdout",
     "output_type": "stream",
     "text": [
      "Hello world\n",
      "alma\n"
     ]
    }
   ],
   "source": [
    "# Ha viszont használom a printet, akkor kiírja mind a kettőt:\n",
    "print(\"Hello world\")\n",
    "print('alma')"
   ]
  },
  {
   "cell_type": "code",
   "execution_count": 6,
   "metadata": {},
   "outputs": [
    {
     "name": "stdout",
     "output_type": "stream",
     "text": [
      "Hello world\n",
      "None\n"
     ]
    }
   ],
   "source": [
    "# print függvény\n",
    "# - argumentuma: \"Hello world\" -> ezzel annyit tesz, hogy kiíratja. Visszatérési értéke nincs\n",
    "# tehát:\n",
    "print(print(\"Hello world\"))\n"
   ]
  },
  {
   "cell_type": "code",
   "execution_count": 7,
   "metadata": {},
   "outputs": [
    {
     "name": "stdout",
     "output_type": "stream",
     "text": [
      "alma körte cseresznye\n",
      "3 szorozva 2-vel:  6\n"
     ]
    }
   ],
   "source": [
    "# argumentum lehet bármennyi, elválasztás \",\" - vel történik\n",
    "print(\"alma\", \"körte\", \"cseresznye\")\n",
    "print(\"3 szorozva 2-vel: \", 3*2)"
   ]
  },
  {
   "cell_type": "code",
   "execution_count": 8,
   "metadata": {},
   "outputs": [
    {
     "name": "stdout",
     "output_type": "stream",
     "text": [
      "alma; körte; eper\n"
     ]
    }
   ],
   "source": [
    "# összefűzés\n",
    "print(\"alma\", \"körte\", \"eper\", sep = \"; \")"
   ]
  },
  {
   "cell_type": "code",
   "execution_count": 9,
   "metadata": {},
   "outputs": [
    {
     "name": "stdout",
     "output_type": "stream",
     "text": [
      "alma körte\n"
     ]
    }
   ],
   "source": [
    "print(\"alma\", end = \" \")\n",
    "print(\"körte\")"
   ]
  },
  {
   "cell_type": "markdown",
   "metadata": {},
   "source": [
    "# típusok\n",
    "<table>\n",
    "  <thead>\n",
    "    <tr>\n",
    "      <th>Típus</th>\n",
    "      <th>Példa</th>\n",
    "      <th>Leírás</th>\n",
    "    </tr>\n",
    "  </thead>\n",
    "  <tbody>\n",
    "    <tr>\n",
    "      <td><code>int</code></td>\n",
    "      <td><code>42</code></td>\n",
    "      <td>Egész szám</td>\n",
    "    </tr>\n",
    "    <tr>\n",
    "      <td><code>float</code></td>\n",
    "      <td><code>3.14</code></td>\n",
    "      <td>Tört szám (lebegőpontos)</td>\n",
    "    </tr>\n",
    "    <tr>\n",
    "      <td><code>str</code></td>\n",
    "      <td><code>\"hello\"</code></td>\n",
    "      <td>Szöveg (karakterlánc)</td>\n",
    "    </tr>\n",
    "    <tr>\n",
    "      <td><code>bool</code></td>\n",
    "      <td><code>True</code>, <code>False</code></td>\n",
    "      <td>Logikai érték</td>\n",
    "    </tr>\n",
    "    <tr>\n",
    "      <td><code>list</code></td>\n",
    "      <td><code>[1, 2, 3]</code></td>\n",
    "      <td>Lista (tömbszerű gyűjtemény)</td>\n",
    "    </tr>\n",
    "    <tr>\n",
    "      <td><code>tuple</code></td>\n",
    "      <td><code>(1, 2, 3)</code></td>\n",
    "      <td>Rendezett, nem módosítható gyűjtemény</td>\n",
    "    </tr>\n",
    "    <tr>\n",
    "      <td><code>dict</code></td>\n",
    "      <td><code>{\"a\": 1, \"b\": 2}</code></td>\n",
    "      <td>Szótár (kulcs-érték párok)</td>\n",
    "    </tr>\n",
    "    <tr>\n",
    "      <td><code>set</code></td>\n",
    "      <td><code>{1, 2, 3}</code></td>\n",
    "      <td>Halmaz (egyedi elemek gyűjteménye)</td>\n",
    "    </tr>\n",
    "    <tr>\n",
    "      <td><code>NoneType</code></td>\n",
    "      <td><code>None</code></td>\n",
    "      <td>Üres vagy nem definiált érték</td>\n",
    "    </tr>\n",
    "  </tbody>\n",
    "</table>\n"
   ]
  },
  {
   "cell_type": "markdown",
   "metadata": {},
   "source": [
    "### int"
   ]
  },
  {
   "cell_type": "code",
   "execution_count": 10,
   "metadata": {},
   "outputs": [
    {
     "name": "stdout",
     "output_type": "stream",
     "text": [
      "-245\n",
      "-245\n"
     ]
    }
   ],
   "source": [
    "print(-245)\n",
    "print(\"-245\")"
   ]
  },
  {
   "cell_type": "code",
   "execution_count": 11,
   "metadata": {},
   "outputs": [
    {
     "data": {
      "text/plain": [
       "3"
      ]
     },
     "execution_count": 11,
     "metadata": {},
     "output_type": "execute_result"
    }
   ],
   "source": [
    "1+2\n"
   ]
  },
  {
   "cell_type": "code",
   "execution_count": 12,
   "metadata": {},
   "outputs": [
    {
     "data": {
      "text/plain": [
       "616"
      ]
     },
     "execution_count": 12,
     "metadata": {},
     "output_type": "execute_result"
    }
   ],
   "source": [
    "77*8\n"
   ]
  },
  {
   "cell_type": "code",
   "execution_count": 13,
   "metadata": {},
   "outputs": [
    {
     "data": {
      "text/plain": [
       "0.14285714285714285"
      ]
     },
     "execution_count": 13,
     "metadata": {},
     "output_type": "execute_result"
    }
   ],
   "source": [
    "1/7\n"
   ]
  },
  {
   "cell_type": "code",
   "execution_count": 14,
   "metadata": {},
   "outputs": [
    {
     "data": {
      "text/plain": [
       "350"
      ]
     },
     "execution_count": 14,
     "metadata": {},
     "output_type": "execute_result"
    }
   ],
   "source": [
    "# szöveg számmá konvertálása, itt mivel a \"345\" \"\" között van, ezért szöveg. Az int konvertálja számmá\n",
    "int(\"345\") + 5"
   ]
  },
  {
   "cell_type": "code",
   "execution_count": 15,
   "metadata": {},
   "outputs": [
    {
     "ename": "TypeError",
     "evalue": "can only concatenate str (not \"int\") to str",
     "output_type": "error",
     "traceback": [
      "\u001b[31m---------------------------------------------------------------------------\u001b[39m",
      "\u001b[31mTypeError\u001b[39m                                 Traceback (most recent call last)",
      "\u001b[36mCell\u001b[39m\u001b[36m \u001b[39m\u001b[32mIn[15]\u001b[39m\u001b[32m, line 1\u001b[39m\n\u001b[32m----> \u001b[39m\u001b[32m1\u001b[39m \u001b[33;43m\"\u001b[39;49m\u001b[33;43m345\u001b[39;49m\u001b[33;43m\"\u001b[39;49m\u001b[43m \u001b[49m\u001b[43m+\u001b[49m\u001b[43m \u001b[49m\u001b[32;43m5\u001b[39;49m\n",
      "\u001b[31mTypeError\u001b[39m: can only concatenate str (not \"int\") to str"
     ]
    }
   ],
   "source": [
    "\"345\" + 5"
   ]
  },
  {
   "cell_type": "code",
   "execution_count": null,
   "metadata": {},
   "outputs": [
    {
     "data": {
      "text/plain": [
       "10000000000"
      ]
     },
     "execution_count": 24,
     "metadata": {},
     "output_type": "execute_result"
    }
   ],
   "source": [
    "# látható számok\n",
    "10_000_000_000"
   ]
  },
  {
   "cell_type": "markdown",
   "metadata": {},
   "source": [
    "### float"
   ]
  },
  {
   "cell_type": "code",
   "execution_count": null,
   "metadata": {},
   "outputs": [
    {
     "data": {
      "text/plain": [
       "3.14"
      ]
     },
     "execution_count": 26,
     "metadata": {},
     "output_type": "execute_result"
    }
   ],
   "source": [
    "3.14"
   ]
  },
  {
   "cell_type": "code",
   "execution_count": null,
   "metadata": {},
   "outputs": [
    {
     "data": {
      "text/plain": [
       "3.0"
      ]
     },
     "execution_count": 27,
     "metadata": {},
     "output_type": "execute_result"
    }
   ],
   "source": [
    "# ha a számban már van egy . akkor apython tudja, hogy az egy int\n",
    "3."
   ]
  },
  {
   "cell_type": "code",
   "execution_count": null,
   "metadata": {},
   "outputs": [
    {
     "data": {
      "text/plain": [
       "0.2"
      ]
     },
     "execution_count": 28,
     "metadata": {},
     "output_type": "execute_result"
    }
   ],
   "source": [
    ".2"
   ]
  },
  {
   "cell_type": "code",
   "execution_count": null,
   "metadata": {},
   "outputs": [
    {
     "data": {
      "text/plain": [
       "4.2"
      ]
     },
     "execution_count": 30,
     "metadata": {},
     "output_type": "execute_result"
    }
   ],
   "source": [
    "3.0 + 1.2 "
   ]
  },
  {
   "cell_type": "code",
   "execution_count": null,
   "metadata": {},
   "outputs": [
    {
     "data": {
      "text/plain": [
       "0.3807106598984772"
      ]
     },
     "execution_count": 31,
     "metadata": {},
     "output_type": "execute_result"
    }
   ],
   "source": [
    "3. / 7.88"
   ]
  },
  {
   "cell_type": "code",
   "execution_count": null,
   "metadata": {},
   "outputs": [
    {
     "data": {
      "text/plain": [
       "6.0"
      ]
     },
     "execution_count": 32,
     "metadata": {},
     "output_type": "execute_result"
    }
   ],
   "source": [
    "3 + 3."
   ]
  },
  {
   "cell_type": "markdown",
   "metadata": {},
   "source": [
    "### string"
   ]
  },
  {
   "cell_type": "code",
   "execution_count": null,
   "metadata": {},
   "outputs": [
    {
     "name": "stdout",
     "output_type": "stream",
     "text": [
      "string\n"
     ]
    }
   ],
   "source": [
    "print(\"string\")"
   ]
  },
  {
   "cell_type": "code",
   "execution_count": null,
   "metadata": {},
   "outputs": [
    {
     "name": "stdout",
     "output_type": "stream",
     "text": [
      "string\n"
     ]
    }
   ],
   "source": [
    "print('string')"
   ]
  },
  {
   "cell_type": "code",
   "execution_count": null,
   "metadata": {},
   "outputs": [
    {
     "name": "stdout",
     "output_type": "stream",
     "text": [
      "Ez egy idézet: 'Ez egy idézet'\n",
      "Ez egy idézet: \"Ez egy idézet\"\n"
     ]
    }
   ],
   "source": [
    "print(\"Ez egy idézet: 'Ez egy idézet'\")\n",
    "print('Ez egy idézet: \"Ez egy idézet\"')"
   ]
  },
  {
   "cell_type": "code",
   "execution_count": null,
   "metadata": {},
   "outputs": [
    {
     "name": "stdout",
     "output_type": "stream",
     "text": [
      "Ez egy aposztróf: ', ez pedig egy idézőjel: \"\n"
     ]
    }
   ],
   "source": [
    "print(\"Ez egy aposztróf: \\', ez pedig egy idézőjel: \\\"\")"
   ]
  },
  {
   "cell_type": "code",
   "execution_count": null,
   "metadata": {},
   "outputs": [
    {
     "name": "stdout",
     "output_type": "stream",
     "text": [
      "Ez egy backslash: \\\n"
     ]
    }
   ],
   "source": [
    "print(\"Ez egy backslash: \\\\\")"
   ]
  },
  {
   "cell_type": "code",
   "execution_count": null,
   "metadata": {},
   "outputs": [
    {
     "name": "stdout",
     "output_type": "stream",
     "text": [
      "ez az első sor\n",
      "ez pedig a második\n",
      "\t\n",
      "Cím: Bevásárlólista\n",
      "Elemek:\n",
      "\t- alma\n",
      "\t- körte\n",
      "\t- eper\n",
      "\t\n",
      "Cím: Bevásárlólista\n",
      "Elemek:\n",
      "1.\t- alma\n",
      "2.\t- körte\n",
      "11.\t- eper\n"
     ]
    }
   ],
   "source": [
    "print('ez az első sor\\nez pedig a második')\n",
    "print(\"\\t\")\n",
    "print(\"Cím: Bevásárlólista\\nElemek:\\n\\t- alma\\n\\t- körte\\n\\t- eper\")\n",
    "print(\"\\t\")\n",
    "print(\"Cím: Bevásárlólista\\nElemek:\\n1.\\t- alma\\n2.\\t- körte\\n11.\\t- eper\") # mindig adott sorhoz rendezi a \\t"
   ]
  },
  {
   "cell_type": "markdown",
   "metadata": {},
   "source": [
    "### bool"
   ]
  },
  {
   "cell_type": "code",
   "execution_count": null,
   "metadata": {},
   "outputs": [
    {
     "data": {
      "text/plain": [
       "True"
      ]
     },
     "execution_count": 51,
     "metadata": {},
     "output_type": "execute_result"
    }
   ],
   "source": [
    "True"
   ]
  },
  {
   "cell_type": "code",
   "execution_count": null,
   "metadata": {},
   "outputs": [
    {
     "data": {
      "text/plain": [
       "False"
      ]
     },
     "execution_count": 52,
     "metadata": {},
     "output_type": "execute_result"
    }
   ],
   "source": [
    "False"
   ]
  },
  {
   "cell_type": "code",
   "execution_count": null,
   "metadata": {},
   "outputs": [
    {
     "data": {
      "text/plain": [
       "False"
      ]
     },
     "execution_count": 54,
     "metadata": {},
     "output_type": "execute_result"
    }
   ],
   "source": [
    "True and False"
   ]
  },
  {
   "cell_type": "code",
   "execution_count": null,
   "metadata": {},
   "outputs": [
    {
     "data": {
      "text/plain": [
       "True"
      ]
     },
     "execution_count": 55,
     "metadata": {},
     "output_type": "execute_result"
    }
   ],
   "source": [
    "True and True"
   ]
  },
  {
   "cell_type": "code",
   "execution_count": null,
   "metadata": {},
   "outputs": [
    {
     "data": {
      "text/plain": [
       "False"
      ]
     },
     "execution_count": 56,
     "metadata": {},
     "output_type": "execute_result"
    }
   ],
   "source": [
    "False and False"
   ]
  },
  {
   "cell_type": "code",
   "execution_count": null,
   "metadata": {},
   "outputs": [
    {
     "data": {
      "text/plain": [
       "False"
      ]
     },
     "execution_count": 57,
     "metadata": {},
     "output_type": "execute_result"
    }
   ],
   "source": [
    "False and True"
   ]
  },
  {
   "cell_type": "code",
   "execution_count": null,
   "metadata": {},
   "outputs": [
    {
     "data": {
      "text/plain": [
       "True"
      ]
     },
     "execution_count": 58,
     "metadata": {},
     "output_type": "execute_result"
    }
   ],
   "source": [
    "True or False"
   ]
  },
  {
   "cell_type": "code",
   "execution_count": null,
   "metadata": {},
   "outputs": [
    {
     "data": {
      "text/plain": [
       "True"
      ]
     },
     "execution_count": 59,
     "metadata": {},
     "output_type": "execute_result"
    }
   ],
   "source": [
    "False or True"
   ]
  },
  {
   "cell_type": "code",
   "execution_count": null,
   "metadata": {},
   "outputs": [
    {
     "data": {
      "text/plain": [
       "True"
      ]
     },
     "execution_count": 60,
     "metadata": {},
     "output_type": "execute_result"
    }
   ],
   "source": [
    "True or True"
   ]
  },
  {
   "cell_type": "code",
   "execution_count": null,
   "metadata": {},
   "outputs": [
    {
     "data": {
      "text/plain": [
       "False"
      ]
     },
     "execution_count": 61,
     "metadata": {},
     "output_type": "execute_result"
    }
   ],
   "source": [
    "False or False"
   ]
  },
  {
   "cell_type": "code",
   "execution_count": null,
   "metadata": {},
   "outputs": [
    {
     "data": {
      "text/plain": [
       "False"
      ]
     },
     "execution_count": 62,
     "metadata": {},
     "output_type": "execute_result"
    }
   ],
   "source": [
    "not True"
   ]
  },
  {
   "cell_type": "code",
   "execution_count": null,
   "metadata": {},
   "outputs": [
    {
     "data": {
      "text/plain": [
       "True"
      ]
     },
     "execution_count": 63,
     "metadata": {},
     "output_type": "execute_result"
    }
   ],
   "source": [
    "not False"
   ]
  },
  {
   "cell_type": "code",
   "execution_count": null,
   "metadata": {},
   "outputs": [
    {
     "data": {
      "text/plain": [
       "True"
      ]
     },
     "execution_count": 64,
     "metadata": {},
     "output_type": "execute_result"
    }
   ],
   "source": [
    "True == True"
   ]
  },
  {
   "cell_type": "code",
   "execution_count": null,
   "metadata": {},
   "outputs": [
    {
     "data": {
      "text/plain": [
       "True"
      ]
     },
     "execution_count": 66,
     "metadata": {},
     "output_type": "execute_result"
    }
   ],
   "source": [
    "False == False"
   ]
  },
  {
   "cell_type": "code",
   "execution_count": null,
   "metadata": {},
   "outputs": [
    {
     "data": {
      "text/plain": [
       "False"
      ]
     },
     "execution_count": 67,
     "metadata": {},
     "output_type": "execute_result"
    }
   ],
   "source": [
    "True == False"
   ]
  },
  {
   "cell_type": "code",
   "execution_count": null,
   "metadata": {},
   "outputs": [
    {
     "data": {
      "text/plain": [
       "True"
      ]
     },
     "execution_count": 68,
     "metadata": {},
     "output_type": "execute_result"
    }
   ],
   "source": [
    "True != False"
   ]
  },
  {
   "cell_type": "code",
   "execution_count": null,
   "metadata": {},
   "outputs": [
    {
     "data": {
      "text/plain": [
       "True"
      ]
     },
     "execution_count": 70,
     "metadata": {},
     "output_type": "execute_result"
    }
   ],
   "source": [
    "\"alma\" == \"alma\""
   ]
  },
  {
   "cell_type": "code",
   "execution_count": null,
   "metadata": {},
   "outputs": [
    {
     "data": {
      "text/plain": [
       "True"
      ]
     },
     "execution_count": 71,
     "metadata": {},
     "output_type": "execute_result"
    }
   ],
   "source": [
    "234 != 235"
   ]
  },
  {
   "cell_type": "code",
   "execution_count": null,
   "metadata": {},
   "outputs": [
    {
     "data": {
      "text/plain": [
       "True"
      ]
     },
     "execution_count": 73,
     "metadata": {},
     "output_type": "execute_result"
    }
   ],
   "source": [
    "234 == \"234\"\n"
   ]
  },
  {
   "cell_type": "code",
   "execution_count": null,
   "metadata": {},
   "outputs": [
    {
     "data": {
      "text/plain": [
       "True"
      ]
     },
     "execution_count": 74,
     "metadata": {},
     "output_type": "execute_result"
    }
   ],
   "source": [
    "234 == int(\"234\")"
   ]
  },
  {
   "cell_type": "code",
   "execution_count": null,
   "metadata": {},
   "outputs": [
    {
     "data": {
      "text/plain": [
       "True"
      ]
     },
     "execution_count": 76,
     "metadata": {},
     "output_type": "execute_result"
    }
   ],
   "source": [
    "10. == 10"
   ]
  },
  {
   "cell_type": "code",
   "execution_count": null,
   "metadata": {},
   "outputs": [
    {
     "data": {
      "text/plain": [
       "False"
      ]
     },
     "execution_count": 77,
     "metadata": {},
     "output_type": "execute_result"
    }
   ],
   "source": [
    "\"alma\" == \"nem alma\""
   ]
  },
  {
   "cell_type": "code",
   "execution_count": null,
   "metadata": {},
   "outputs": [
    {
     "data": {
      "text/plain": [
       "True"
      ]
     },
     "execution_count": 78,
     "metadata": {},
     "output_type": "execute_result"
    }
   ],
   "source": [
    "\"alma\" == \"körte\" or 234 == 234"
   ]
  },
  {
   "cell_type": "code",
   "execution_count": null,
   "metadata": {},
   "outputs": [
    {
     "data": {
      "text/plain": [
       "2"
      ]
     },
     "execution_count": 79,
     "metadata": {},
     "output_type": "execute_result"
    }
   ],
   "source": [
    "True + True # int-é alakítja, a True = 1, a False = 0"
   ]
  },
  {
   "cell_type": "code",
   "execution_count": null,
   "metadata": {},
   "outputs": [
    {
     "data": {
      "text/plain": [
       "1"
      ]
     },
     "execution_count": 80,
     "metadata": {},
     "output_type": "execute_result"
    }
   ],
   "source": [
    "False + True"
   ]
  },
  {
   "cell_type": "code",
   "execution_count": null,
   "metadata": {},
   "outputs": [
    {
     "data": {
      "text/plain": [
       "0"
      ]
     },
     "execution_count": 81,
     "metadata": {},
     "output_type": "execute_result"
    }
   ],
   "source": [
    "False + False"
   ]
  },
  {
   "cell_type": "code",
   "execution_count": null,
   "metadata": {},
   "outputs": [
    {
     "data": {
      "text/plain": [
       "0"
      ]
     },
     "execution_count": 83,
     "metadata": {},
     "output_type": "execute_result"
    }
   ],
   "source": [
    "int(False)"
   ]
  },
  {
   "cell_type": "markdown",
   "metadata": {},
   "source": [
    "# operátorok"
   ]
  },
  {
   "cell_type": "markdown",
   "metadata": {},
   "source": [
    "### összeadás"
   ]
  },
  {
   "cell_type": "code",
   "execution_count": null,
   "metadata": {},
   "outputs": [],
   "source": [
    "# print-eket ebben a kérdésben csak azért használom, hogy ne kelljen minden új sorba írni, ezek a műveletek kiíródnak pront nélkül is"
   ]
  },
  {
   "cell_type": "code",
   "execution_count": null,
   "metadata": {},
   "outputs": [
    {
     "name": "stdout",
     "output_type": "stream",
     "text": [
      "2\n",
      "2.0\n",
      "alma a fa alatt\n"
     ]
    }
   ],
   "source": [
    "print(1 + 1)\n",
    "print(1 + 1.)\n",
    "print(\"alma\" + \" \" + \"a fa alatt\")"
   ]
  },
  {
   "cell_type": "markdown",
   "metadata": {},
   "source": [
    "### kivonás"
   ]
  },
  {
   "cell_type": "code",
   "execution_count": null,
   "metadata": {},
   "outputs": [
    {
     "name": "stdout",
     "output_type": "stream",
     "text": [
      "-9\n",
      "0.99999\n"
     ]
    }
   ],
   "source": [
    "print(1 - 10)\n",
    "print(1 - 0.00001)"
   ]
  },
  {
   "cell_type": "code",
   "execution_count": null,
   "metadata": {},
   "outputs": [
    {
     "ename": "TypeError",
     "evalue": "unsupported operand type(s) for -: 'str' and 'str'",
     "output_type": "error",
     "traceback": [
      "\u001b[31m---------------------------------------------------------------------------\u001b[39m",
      "\u001b[31mTypeError\u001b[39m                                 Traceback (most recent call last)",
      "\u001b[36mCell\u001b[39m\u001b[36m \u001b[39m\u001b[32mIn[93]\u001b[39m\u001b[32m, line 1\u001b[39m\n\u001b[32m----> \u001b[39m\u001b[32m1\u001b[39m \u001b[33;43m\"\u001b[39;49m\u001b[33;43malma \u001b[39;49m\u001b[33;43m\"\u001b[39;49m\u001b[43m \u001b[49m\u001b[43m-\u001b[49m\u001b[43m \u001b[49m\u001b[33;43m\"\u001b[39;49m\u001b[33;43mma\u001b[39;49m\u001b[33;43m\"\u001b[39;49m\n",
      "\u001b[31mTypeError\u001b[39m: unsupported operand type(s) for -: 'str' and 'str'"
     ]
    }
   ],
   "source": [
    "\"alma \" - \"ma\" # stringek között nincsen kivonás"
   ]
  },
  {
   "cell_type": "markdown",
   "metadata": {},
   "source": [
    "### szorzás"
   ]
  },
  {
   "cell_type": "code",
   "execution_count": null,
   "metadata": {},
   "outputs": [
    {
     "name": "stdout",
     "output_type": "stream",
     "text": [
      "90\n",
      "836.4000000000001\n"
     ]
    }
   ],
   "source": [
    "print(2 * 45)\n",
    "print(2.0 * 12.3 * 34)"
   ]
  },
  {
   "cell_type": "code",
   "execution_count": null,
   "metadata": {},
   "outputs": [
    {
     "data": {
      "text/plain": [
       "'alma alma alma alma alma alma alma alma alma alma '"
      ]
     },
     "execution_count": 97,
     "metadata": {},
     "output_type": "execute_result"
    }
   ],
   "source": [
    "\"alma \"*10"
   ]
  },
  {
   "cell_type": "markdown",
   "metadata": {},
   "source": [
    "### osztás"
   ]
  },
  {
   "cell_type": "code",
   "execution_count": null,
   "metadata": {},
   "outputs": [
    {
     "data": {
      "text/plain": [
       "0.5"
      ]
     },
     "execution_count": 98,
     "metadata": {},
     "output_type": "execute_result"
    }
   ],
   "source": [
    "# mindig floatként értelmezett, tehát int / int is float lesz\n",
    "2 / 4"
   ]
  },
  {
   "cell_type": "code",
   "execution_count": null,
   "metadata": {},
   "outputs": [
    {
     "data": {
      "text/plain": [
       "0.9523809523809523"
      ]
     },
     "execution_count": 99,
     "metadata": {},
     "output_type": "execute_result"
    }
   ],
   "source": [
    "2 / 2.1"
   ]
  },
  {
   "cell_type": "code",
   "execution_count": null,
   "metadata": {},
   "outputs": [
    {
     "ename": "NameError",
     "evalue": "name 'alma' is not defined",
     "output_type": "error",
     "traceback": [
      "\u001b[31m---------------------------------------------------------------------------\u001b[39m",
      "\u001b[31mNameError\u001b[39m                                 Traceback (most recent call last)",
      "\u001b[36mCell\u001b[39m\u001b[36m \u001b[39m\u001b[32mIn[100]\u001b[39m\u001b[32m, line 2\u001b[39m\n\u001b[32m      1\u001b[39m \u001b[38;5;66;03m#stringeknél nem értelmezhető\u001b[39;00m\n\u001b[32m----> \u001b[39m\u001b[32m2\u001b[39m \u001b[43malma\u001b[49m / \u001b[32m10\u001b[39m\n",
      "\u001b[31mNameError\u001b[39m: name 'alma' is not defined"
     ]
    }
   ],
   "source": [
    "#stringeknél nem értelmezhető\n",
    "alma / 10"
   ]
  },
  {
   "cell_type": "markdown",
   "metadata": {},
   "source": [
    "### egész részre osztás"
   ]
  },
  {
   "cell_type": "code",
   "execution_count": null,
   "metadata": {},
   "outputs": [
    {
     "name": "stdout",
     "output_type": "stream",
     "text": [
      "2\n",
      "0\n",
      "1\n"
     ]
    }
   ],
   "source": [
    "print(6 // 3)\n",
    "print(2 // 3)\n",
    "print(3 // 2)"
   ]
  },
  {
   "cell_type": "markdown",
   "metadata": {},
   "source": [
    "### maradékképzés"
   ]
  },
  {
   "cell_type": "code",
   "execution_count": null,
   "metadata": {},
   "outputs": [
    {
     "name": "stdout",
     "output_type": "stream",
     "text": [
      "0\n",
      "1\n",
      "3\n"
     ]
    }
   ],
   "source": [
    "print(6%3)\n",
    "print(3%2)\n",
    "print(7%4)"
   ]
  },
  {
   "cell_type": "markdown",
   "metadata": {},
   "source": [
    "### hatványozás"
   ]
  },
  {
   "cell_type": "code",
   "execution_count": null,
   "metadata": {},
   "outputs": [
    {
     "data": {
      "text/plain": [
       "8"
      ]
     },
     "execution_count": 105,
     "metadata": {},
     "output_type": "execute_result"
    }
   ],
   "source": [
    "2 ** 3"
   ]
  },
  {
   "cell_type": "code",
   "execution_count": null,
   "metadata": {},
   "outputs": [
    {
     "data": {
      "text/plain": [
       "9.18958683997628"
      ]
     },
     "execution_count": 106,
     "metadata": {},
     "output_type": "execute_result"
    }
   ],
   "source": [
    "2 ** 3.2"
   ]
  },
  {
   "cell_type": "markdown",
   "metadata": {},
   "source": [
    "### műveleti sorrend"
   ]
  },
  {
   "cell_type": "code",
   "execution_count": null,
   "metadata": {},
   "outputs": [
    {
     "data": {
      "text/plain": [
       "6"
      ]
     },
     "execution_count": 104,
     "metadata": {},
     "output_type": "execute_result"
    }
   ],
   "source": [
    "# matematika szabályait követi\n",
    "1 + 2 * 2 + 1"
   ]
  },
  {
   "cell_type": "code",
   "execution_count": null,
   "metadata": {},
   "outputs": [
    {
     "data": {
      "text/plain": [
       "9"
      ]
     },
     "execution_count": 107,
     "metadata": {},
     "output_type": "execute_result"
    }
   ],
   "source": [
    "(1 + 2) * (2 + 1)"
   ]
  },
  {
   "cell_type": "code",
   "execution_count": null,
   "metadata": {},
   "outputs": [
    {
     "data": {
      "text/plain": [
       "2417851639229258349412352"
      ]
     },
     "execution_count": 108,
     "metadata": {},
     "output_type": "execute_result"
    }
   ],
   "source": [
    "2 ** 3 ** 4\n",
    "# matematikailag helyes, mert 2-nek a hatványkitevője 3 a 4-en, tehát a 2-t, a 3 ** 4-re kell emelni"
   ]
  },
  {
   "cell_type": "code",
   "execution_count": null,
   "metadata": {},
   "outputs": [
    {
     "data": {
      "text/plain": [
       "-9"
      ]
     },
     "execution_count": 109,
     "metadata": {},
     "output_type": "execute_result"
    }
   ],
   "source": [
    "- 3 ** 2\n",
    "# a hatványozás elsőbbrendűbb, ennek az eredmény 3 ** 2-nek a -1 szerese, tehát (3 ** 2) * -1"
   ]
  },
  {
   "cell_type": "markdown",
   "metadata": {},
   "source": [
    "<table>\n",
    "  <thead>\n",
    "    <tr>\n",
    "      <th>Precedencia</th>\n",
    "      <th>Operátor</th>\n",
    "      <th>Leírás</th>\n",
    "      <th>Példa</th>\n",
    "    </tr>\n",
    "  </thead>\n",
    "  <tbody>\n",
    "    <tr>\n",
    "      <td>1 (legmagasabb)</td>\n",
    "      <td><code>**</code></td>\n",
    "      <td>Hatványozás</td>\n",
    "      <td><code>2 ** 3 → 8</code></td>\n",
    "    </tr>\n",
    "    <tr>\n",
    "      <td>2</td>\n",
    "      <td><code>+x, -x, ~x</code></td>\n",
    "      <td>Unáris plusz, mínusz, bitenkénti negálás</td>\n",
    "      <td><code>-5, +3, ~2</code></td>\n",
    "    </tr>\n",
    "    <tr>\n",
    "      <td>3</td>\n",
    "      <td><code>* / // %</code></td>\n",
    "      <td>Szorzás, osztás, egész osztás, maradék</td>\n",
    "      <td><code>10 * 2, 9 / 3, 7 // 2, 7 % 2</code></td>\n",
    "    </tr>\n",
    "    <tr>\n",
    "      <td>4</td>\n",
    "      <td><code>+ -</code></td>\n",
    "      <td>Összeadás, kivonás</td>\n",
    "      <td><code>5 + 3, 7 - 2</code></td>\n",
    "    </tr>\n",
    "    <tr>\n",
    "      <td>5</td>\n",
    "      <td><code>&lt;&lt; &gt;&gt;</code></td>\n",
    "      <td>Bitenkénti balra/jobbra tolás</td>\n",
    "      <td><code>1 &lt;&lt; 2 → 4</code></td>\n",
    "    </tr>\n",
    "    <tr>\n",
    "      <td>6</td>\n",
    "      <td><code>&amp;</code></td>\n",
    "      <td>Bitenkénti ÉS</td>\n",
    "      <td><code>5 &amp; 3 → 1</code></td>\n",
    "    </tr>\n",
    "    <tr>\n",
    "      <td>7</td>\n",
    "      <td><code>^</code></td>\n",
    "      <td>Bitenkénti XOR</td>\n",
    "      <td><code>5 ^ 3 → 6</code></td>\n",
    "    </tr>\n",
    "    <tr>\n",
    "      <td>8</td>\n",
    "      <td><code>|</code></td>\n",
    "      <td>Bitenkénti VAGY</td>\n",
    "      <td><code>5 | 3 → 7</code></td>\n",
    "    </tr>\n",
    "    <tr>\n",
    "      <td>9</td>\n",
    "      <td>\n",
    "        <code>&lt;</code>, <code>&lt;=</code>, <code>&gt;</code>, <code>&gt;=</code>,<br>\n",
    "        <code>==</code>, <code>!=</code>, <code>is</code>, <code>is not</code>,<br>\n",
    "        <code>in</code>, <code>not in</code>\n",
    "      </td>\n",
    "      <td>Összehasonlító és identitás operátorok</td>\n",
    "      <td>\n",
    "        <code>x &lt; y</code>, <code>x != y</code>, <code>x is y</code>,<br>\n",
    "        <code>x in lista</code>, <code>x not in lista</code>\n",
    "      </td>\n",
    "    </tr>\n",
    "    <tr>\n",
    "      <td>10</td>\n",
    "      <td><code>not</code></td>\n",
    "      <td>Logikai negáció</td>\n",
    "      <td><code>not True → False</code></td>\n",
    "    </tr>\n",
    "    <tr>\n",
    "      <td>11</td>\n",
    "      <td><code>and</code></td>\n",
    "      <td>Logikai ÉS</td>\n",
    "      <td><code>True and False → False</code></td>\n",
    "    </tr>\n",
    "    <tr>\n",
    "      <td>12</td>\n",
    "      <td><code>or</code></td>\n",
    "      <td>Logikai VAGY</td>\n",
    "      <td><code>True or False → True</code></td>\n",
    "    </tr>\n",
    "    <tr>\n",
    "      <td>13 (legalacsonyabb)</td>\n",
    "      <td><code>=, +=, -=, *=, /=, //=, %=, **=</code></td>\n",
    "      <td>Értékadó operátorok</td>\n",
    "      <td><code>x = 5, x += 1</code></td>\n",
    "    </tr>\n",
    "  </tbody>\n",
    "</table>\n"
   ]
  },
  {
   "cell_type": "markdown",
   "metadata": {},
   "source": [
    "## Változók"
   ]
  },
  {
   "cell_type": "code",
   "execution_count": null,
   "metadata": {},
   "outputs": [],
   "source": [
    "#változó értékű tárolók, amiket egy névvel látunk el"
   ]
  },
  {
   "cell_type": "code",
   "execution_count": null,
   "metadata": {},
   "outputs": [
    {
     "name": "stdout",
     "output_type": "stream",
     "text": [
      "Tomi\n"
     ]
    }
   ],
   "source": [
    "name = \"Tomi\"\n",
    "print(name)"
   ]
  },
  {
   "cell_type": "code",
   "execution_count": null,
   "metadata": {},
   "outputs": [
    {
     "data": {
      "text/plain": [
       "'Tomi'"
      ]
     },
     "execution_count": 114,
     "metadata": {},
     "output_type": "execute_result"
    }
   ],
   "source": [
    "#jupyter notebookban, ha van egy kódcella, amit már lefuttattam, és ebben van értékadás, akkor a küvetkező cellában ennek elérjük az érétkét\n",
    "name"
   ]
  },
  {
   "cell_type": "code",
   "execution_count": null,
   "metadata": {},
   "outputs": [],
   "source": [
    "# ezek felülírhatók, mindig az utolsó futtatott értékmeghatározás az értéke\n",
    "name = \"Laci\"\n"
   ]
  },
  {
   "cell_type": "code",
   "execution_count": null,
   "metadata": {},
   "outputs": [
    {
     "name": "stdout",
     "output_type": "stream",
     "text": [
      "Tomi\n"
     ]
    }
   ],
   "source": [
    "print(name)"
   ]
  },
  {
   "cell_type": "code",
   "execution_count": null,
   "metadata": {},
   "outputs": [
    {
     "name": "stdout",
     "output_type": "stream",
     "text": [
      "Tamás Gellén is 28 years old\n",
      "In 10 years Tamás Gellén will be 38 years old.\n"
     ]
    }
   ],
   "source": [
    "name = 'Tamás Gellén'\n",
    "age = 28\n",
    "print(name, \"is\", age, \"years old\")\n",
    "print(\"In 10 years\", name, \"will be\", age + 10, \"years old.\")"
   ]
  },
  {
   "cell_type": "code",
   "execution_count": null,
   "metadata": {},
   "outputs": [
    {
     "name": "stdout",
     "output_type": "stream",
     "text": [
      "a=  214\n",
      "b=  33\n",
      "t=  7062\n",
      "k=  494\n"
     ]
    }
   ],
   "source": [
    "a = 214\n",
    "b = 33\n",
    "print(\"a= \", a)\n",
    "print(\"b= \", b)\n",
    "print(\"t= \", a * b)\n",
    "print(\"k= \", 2 * (a + b))"
   ]
  },
  {
   "cell_type": "code",
   "execution_count": null,
   "metadata": {},
   "outputs": [
    {
     "name": "stdout",
     "output_type": "stream",
     "text": [
      "1\n",
      "2\n",
      "4\n",
      "8\n",
      "16\n",
      "32\n",
      "64\n",
      "128\n"
     ]
    }
   ],
   "source": [
    "x = 1\n",
    "print(x)\n",
    "x *= 2\n",
    "print(x)\n",
    "x *= 2\n",
    "print(x)\n",
    "x *= 2\n",
    "print(x)\n",
    "x *= 2\n",
    "print(x)\n",
    "x *= 2\n",
    "print(x)\n",
    "x *= 2\n",
    "print(x)\n",
    "x *= 2\n",
    "print(x)"
   ]
  },
  {
   "cell_type": "code",
   "execution_count": null,
   "metadata": {},
   "outputs": [
    {
     "name": "stdout",
     "output_type": "stream",
     "text": [
      "7.38 miles is 11.81 kms\n",
      "12.75 km is 7.97 miles\n"
     ]
    }
   ],
   "source": [
    "# 1 mile = 1.6 km\n",
    "km_per_mile = 1.6\n",
    "mile_per_km = 1/km_per_mile\n",
    "\n",
    "# ezeket szeretnénk átváltani\n",
    "km = 12.75\n",
    "miles = 7.38\n",
    "\n",
    "# átváltás\n",
    "miles_to_km = miles  * km_per_mile\n",
    "km_to_miles = km * mile_per_km\n",
    "\n",
    "print(miles, \"miles is\", round(miles_to_km, 2), \"kms\")\n",
    "print(km, \"km is\", round(km_to_miles, 2), \"miles\")"
   ]
  },
  {
   "cell_type": "markdown",
   "metadata": {},
   "source": [
    "### input() függvény"
   ]
  },
  {
   "cell_type": "code",
   "execution_count": null,
   "metadata": {},
   "outputs": [
    {
     "name": "stdout",
     "output_type": "stream",
     "text": [
      "Szia, Béla\n"
     ]
    }
   ],
   "source": [
    "name = input(\"mi a neved mester?\")\n",
    "print(f\"Szia, {name}\") # f betű segít abban, hogy a curly bracketekbe be tudjuk tenni a változót aposztrófon belül"
   ]
  },
  {
   "cell_type": "code",
   "execution_count": null,
   "metadata": {},
   "outputs": [
    {
     "name": "stdout",
     "output_type": "stream",
     "text": [
      "Szia kedves 25 éves Béla nevű ember\n"
     ]
    }
   ],
   "source": [
    "name = input(\"Mi a neved mester?\")\n",
    "age = int(input(f\"Hány éves vagy {name} nagyuram?\"))\n",
    "print(f\"Szia kedves {age} éves {name} nevű ember\")"
   ]
  },
  {
   "cell_type": "markdown",
   "metadata": {},
   "source": [
    "### Konverziók"
   ]
  },
  {
   "cell_type": "code",
   "execution_count": null,
   "metadata": {},
   "outputs": [
    {
     "data": {
      "text/plain": [
       "9"
      ]
     },
     "execution_count": 3,
     "metadata": {},
     "output_type": "execute_result"
    }
   ],
   "source": [
    "int(\"9\")"
   ]
  },
  {
   "cell_type": "code",
   "execution_count": null,
   "metadata": {},
   "outputs": [
    {
     "data": {
      "text/plain": [
       "3"
      ]
     },
     "execution_count": 4,
     "metadata": {},
     "output_type": "execute_result"
    }
   ],
   "source": [
    "int(3.88)"
   ]
  },
  {
   "cell_type": "code",
   "execution_count": null,
   "metadata": {},
   "outputs": [
    {
     "data": {
      "text/plain": [
       "1"
      ]
     },
     "execution_count": 5,
     "metadata": {},
     "output_type": "execute_result"
    }
   ],
   "source": [
    "int(True)"
   ]
  },
  {
   "cell_type": "code",
   "execution_count": null,
   "metadata": {},
   "outputs": [
    {
     "data": {
      "text/plain": [
       "3.0"
      ]
     },
     "execution_count": 7,
     "metadata": {},
     "output_type": "execute_result"
    }
   ],
   "source": [
    "float(3)"
   ]
  },
  {
   "cell_type": "code",
   "execution_count": null,
   "metadata": {},
   "outputs": [
    {
     "data": {
      "text/plain": [
       "1000000.0"
      ]
     },
     "execution_count": 8,
     "metadata": {},
     "output_type": "execute_result"
    }
   ],
   "source": [
    "float(1E6)"
   ]
  },
  {
   "cell_type": "code",
   "execution_count": null,
   "metadata": {},
   "outputs": [
    {
     "data": {
      "text/plain": [
       "0.0"
      ]
     },
     "execution_count": 10,
     "metadata": {},
     "output_type": "execute_result"
    }
   ],
   "source": [
    "float(False)"
   ]
  },
  {
   "cell_type": "code",
   "execution_count": null,
   "metadata": {},
   "outputs": [
    {
     "data": {
      "text/plain": [
       "False"
      ]
     },
     "execution_count": 11,
     "metadata": {},
     "output_type": "execute_result"
    }
   ],
   "source": [
    "bool(0)"
   ]
  },
  {
   "cell_type": "markdown",
   "metadata": {},
   "source": [
    "### összehasonlítás, feltételes programozás:"
   ]
  },
  {
   "cell_type": "code",
   "execution_count": null,
   "metadata": {},
   "outputs": [
    {
     "data": {
      "text/plain": [
       "False"
      ]
     },
     "execution_count": 12,
     "metadata": {},
     "output_type": "execute_result"
    }
   ],
   "source": [
    "\"alma\" == \"körte\""
   ]
  },
  {
   "cell_type": "code",
   "execution_count": null,
   "metadata": {},
   "outputs": [
    {
     "data": {
      "text/plain": [
       "True"
      ]
     },
     "execution_count": 13,
     "metadata": {},
     "output_type": "execute_result"
    }
   ],
   "source": [
    "\"alma\" != \"körte\""
   ]
  },
  {
   "cell_type": "code",
   "execution_count": null,
   "metadata": {},
   "outputs": [
    {
     "data": {
      "text/plain": [
       "False"
      ]
     },
     "execution_count": 15,
     "metadata": {},
     "output_type": "execute_result"
    }
   ],
   "source": [
    "2 == 3"
   ]
  },
  {
   "cell_type": "code",
   "execution_count": null,
   "metadata": {},
   "outputs": [
    {
     "data": {
      "text/plain": [
       "True"
      ]
     },
     "execution_count": 17,
     "metadata": {},
     "output_type": "execute_result"
    }
   ],
   "source": [
    "2 < 3"
   ]
  },
  {
   "cell_type": "code",
   "execution_count": null,
   "metadata": {},
   "outputs": [
    {
     "data": {
      "text/plain": [
       "True"
      ]
     },
     "execution_count": 21,
     "metadata": {},
     "output_type": "execute_result"
    }
   ],
   "source": [
    "2 <= 2"
   ]
  },
  {
   "cell_type": "code",
   "execution_count": null,
   "metadata": {},
   "outputs": [
    {
     "data": {
      "text/plain": [
       "True"
      ]
     },
     "execution_count": 22,
     "metadata": {},
     "output_type": "execute_result"
    }
   ],
   "source": [
    "\"alma\" < \"b\" # betűrend alapján vizsgál"
   ]
  },
  {
   "cell_type": "code",
   "execution_count": null,
   "metadata": {},
   "outputs": [
    {
     "data": {
      "text/plain": [
       "False"
      ]
     },
     "execution_count": 23,
     "metadata": {},
     "output_type": "execute_result"
    }
   ],
   "source": [
    "\"almb\" < \"alma\""
   ]
  },
  {
   "cell_type": "code",
   "execution_count": null,
   "metadata": {},
   "outputs": [
    {
     "data": {
      "text/plain": [
       "False"
      ]
     },
     "execution_count": 24,
     "metadata": {},
     "output_type": "execute_result"
    }
   ],
   "source": [
    "2 < 3 == 2 > 3"
   ]
  },
  {
   "cell_type": "markdown",
   "metadata": {},
   "source": [
    "### If-else"
   ]
  },
  {
   "cell_type": "code",
   "execution_count": null,
   "metadata": {},
   "outputs": [
    {
     "name": "stdout",
     "output_type": "stream",
     "text": [
      "Elhiszem, hogy 34 éves vagy\n"
     ]
    }
   ],
   "source": [
    "age = int(input(\"Hány éves vagy tekintetes uram?\"))\n",
    "\n",
    "if age < 0:\n",
    "    print(f\"{age}? Ez nem lehetséges\")\n",
    "else:\n",
    "    if age > 120:\n",
    "        print(f\"{age}? Ez nekem gyanús, túl öreg vagy\")\n",
    "    else:\n",
    "        print(f\"Elhiszem, hogy {age} éves vagy\")\n",
    "\n"
   ]
  },
  {
   "cell_type": "code",
   "execution_count": null,
   "metadata": {},
   "outputs": [
    {
     "name": "stdout",
     "output_type": "stream",
     "text": [
      "Elhiszem, hogy 12 éves vagy\n"
     ]
    }
   ],
   "source": [
    "age = int(input(\"Hány éves vagy tekintetes uram?\"))\n",
    "\n",
    "if age < 0:\n",
    "    print(f\"{age}? Ez nem lehetséges\")\n",
    "elif age > 120:\n",
    "    print(f\"{age}? Ez nekem gyanús, túl öreg vagy\")\n",
    "else:\n",
    "    print(f\"Elhiszem, hogy {age} éves vagy\")"
   ]
  },
  {
   "cell_type": "code",
   "execution_count": null,
   "metadata": {},
   "outputs": [
    {
     "name": "stdout",
     "output_type": "stream",
     "text": [
      "A szám páros\n",
      "Ez a sor mindig le fog futni, ez nem része az if-else szerkezetnek\n"
     ]
    }
   ],
   "source": [
    "szam = int(input(\"Adj meg egy számot!\"))\n",
    "if szam % 2 == 0:\n",
    "    print(\"A szám páros\")\n",
    "else:\n",
    "    print(\"A szám páratlan\")\n",
    "\n",
    "print(\"Ez a sor mindig le fog futni, ez nem része az if-else szerkezetnek\")"
   ]
  },
  {
   "cell_type": "markdown",
   "metadata": {},
   "source": [
    "# Ciklusok\n",
    "##### while - addig ismétlődik, amíg egy feltétel igaz marad\n",
    "##### for - ismert számú ismétléshez használjuk"
   ]
  },
  {
   "cell_type": "code",
   "execution_count": null,
   "metadata": {},
   "outputs": [
    {
     "name": "stdout",
     "output_type": "stream",
     "text": [
      "A megadott szám: 1\n",
      "A megadott szám: 123\n",
      "A megadott szám: 2\n",
      "A megadott szám: 123\n",
      "A megadott szám: -1\n",
      "A legnagyobb megadott szam: 123\n"
     ]
    }
   ],
   "source": [
    "szam = int(input(\"Adj meg egy számot\"))\n",
    "ln_szam = szam\n",
    "\n",
    "while szam != -1:\n",
    "    if szam > ln_szam:\n",
    "        ln_szam = szam\n",
    "    szam = int(input(\"Adj meg egy számot\"))\n",
    "    print(f\"A megadott szám: {szam}\")\n",
    "\n",
    "print(f\"A legnagyobb megadott szam: {ln_szam}\")\n",
    "    "
   ]
  },
  {
   "cell_type": "code",
   "execution_count": null,
   "metadata": {},
   "outputs": [
    {
     "name": "stdout",
     "output_type": "stream",
     "text": [
      "2-nek a 0 hatványa: 1\n",
      "2-nek a 1 hatványa: 2\n",
      "2-nek a 2 hatványa: 4\n",
      "2-nek a 3 hatványa: 8\n",
      "2-nek a 4 hatványa: 16\n",
      "2-nek a 5 hatványa: 32\n",
      "2-nek a 6 hatványa: 64\n",
      "2-nek a 7 hatványa: 128\n",
      "2-nek a 8 hatványa: 256\n",
      "2-nek a 9 hatványa: 512\n"
     ]
    }
   ],
   "source": [
    "counter = 0\n",
    "while counter < 10:\n",
    "    print(f\"2-nek a {counter} hatványa: {2 ** counter}\")\n",
    "    counter += 1"
   ]
  },
  {
   "cell_type": "code",
   "execution_count": null,
   "metadata": {},
   "outputs": [
    {
     "name": "stdout",
     "output_type": "stream",
     "text": [
      "2-nek a 0 hatványa: 1\n",
      "2-nek a 1 hatványa: 2\n",
      "2-nek a 2 hatványa: 4\n",
      "2-nek a 3 hatványa: 8\n",
      "2-nek a 4 hatványa: 16\n",
      "2-nek a 5 hatványa: 32\n",
      "2-nek a 6 hatványa: 64\n",
      "2-nek a 7 hatványa: 128\n",
      "2-nek a 8 hatványa: 256\n",
      "2-nek a 9 hatványa: 512\n"
     ]
    }
   ],
   "source": [
    "for counter in range(10):\n",
    "    print(f\"2-nek a {counter} hatványa: {2 ** counter}\")"
   ]
  },
  {
   "cell_type": "code",
   "execution_count": null,
   "metadata": {},
   "outputs": [
    {
     "name": "stdout",
     "output_type": "stream",
     "text": [
      "0\n",
      "1\n",
      "2\n",
      "3\n",
      "4\n",
      "5\n",
      "6\n",
      "7\n",
      "8\n",
      "9\n",
      "10\n",
      "11\n"
     ]
    }
   ],
   "source": [
    "for i in range(12):\n",
    "    print(i)"
   ]
  },
  {
   "cell_type": "code",
   "execution_count": null,
   "metadata": {},
   "outputs": [
    {
     "name": "stdout",
     "output_type": "stream",
     "text": [
      "1\n",
      "2\n",
      "3\n",
      "4\n",
      "5\n",
      "6\n",
      "7\n",
      "8\n",
      "9\n"
     ]
    }
   ],
   "source": [
    "for i in range(1, 10):\n",
    "    print(i)"
   ]
  },
  {
   "cell_type": "code",
   "execution_count": null,
   "metadata": {},
   "outputs": [
    {
     "name": "stdout",
     "output_type": "stream",
     "text": [
      "0\n",
      "2\n",
      "4\n",
      "6\n",
      "8\n"
     ]
    }
   ],
   "source": [
    "for i in range(0, 10, 2):\n",
    "    print(i)"
   ]
  },
  {
   "cell_type": "code",
   "execution_count": null,
   "metadata": {},
   "outputs": [
    {
     "name": "stdout",
     "output_type": "stream",
     "text": [
      "10\n",
      "9\n",
      "8\n",
      "7\n",
      "6\n",
      "5\n",
      "4\n",
      "3\n",
      "2\n",
      "1\n"
     ]
    }
   ],
   "source": [
    "for i in range(10, 0, -1):\n",
    "    print(i)"
   ]
  },
  {
   "cell_type": "code",
   "execution_count": null,
   "metadata": {},
   "outputs": [
    {
     "name": "stdout",
     "output_type": "stream",
     "text": [
      "100\n",
      "88\n",
      "76\n",
      "64\n",
      "52\n",
      "40\n",
      "28\n",
      "16\n",
      "4\n",
      "-8\n",
      "-20\n",
      "-32\n",
      "-44\n",
      "-56\n"
     ]
    }
   ],
   "source": [
    "for i in range(100, -64, -12):\n",
    "    print(i)"
   ]
  },
  {
   "cell_type": "markdown",
   "metadata": {},
   "source": [
    "### Break és Continue"
   ]
  },
  {
   "cell_type": "code",
   "execution_count": null,
   "metadata": {},
   "outputs": [
    {
     "name": "stdout",
     "output_type": "stream",
     "text": [
      "0\n",
      "1\n",
      "2\n",
      "3\n",
      "4\n",
      "5\n",
      "6\n",
      "7\n",
      "8\n",
      "9\n",
      "Ciklus vége\n"
     ]
    }
   ],
   "source": [
    "for i in range(10):\n",
    "    print(i)\n",
    "print(\"Ciklus vége\")"
   ]
  },
  {
   "cell_type": "code",
   "execution_count": null,
   "metadata": {},
   "outputs": [
    {
     "name": "stdout",
     "output_type": "stream",
     "text": [
      "0\n",
      "1\n",
      "2\n",
      "3\n",
      "4\n",
      "5\n",
      "Ciklus vége\n"
     ]
    }
   ],
   "source": [
    "for i in range(12):\n",
    "    if i > 5:\n",
    "        break # megszakítjuk a ciklust\n",
    "    print(i)\n",
    "print(\"Ciklus vége\")"
   ]
  },
  {
   "cell_type": "code",
   "execution_count": null,
   "metadata": {},
   "outputs": [
    {
     "name": "stdout",
     "output_type": "stream",
     "text": [
      "0\n",
      "1\n",
      "2\n",
      "3\n",
      "4\n",
      "5\n",
      "6\n",
      "Ciklus vége\n"
     ]
    }
   ],
   "source": [
    "for i in range(12):\n",
    "    print(i)\n",
    "    if i > 5:\n",
    "        break # megszakítjuk a ciklust\n",
    "print(\"Ciklus vége\")"
   ]
  },
  {
   "cell_type": "code",
   "execution_count": null,
   "metadata": {},
   "outputs": [
    {
     "name": "stdout",
     "output_type": "stream",
     "text": [
      "A megadott szám 4\n",
      "A megadott szám 5\n",
      "A megadott szám 6\n",
      "Ciklus vége\n"
     ]
    }
   ],
   "source": [
    "while True:\n",
    "    n = int(input(\"Adj meg egy számot\"))\n",
    "    if n == -1:\n",
    "        break\n",
    "    print(f\"A megadott szám {n}\")\n",
    "print(\"Ciklus vége\")"
   ]
  },
  {
   "cell_type": "code",
   "execution_count": null,
   "metadata": {},
   "outputs": [
    {
     "name": "stdout",
     "output_type": "stream",
     "text": [
      "0\n",
      "1\n",
      "2\n",
      "4\n",
      "5\n",
      "6\n",
      "7\n",
      "8\n",
      "9\n",
      "Ciklus vége\n"
     ]
    }
   ],
   "source": [
    "for i in range(10):\n",
    "    if i == 3:\n",
    "        continue # kihagyta a 3-ast, a continue azt mondja a ciklusnak, hogy ugorj a következő ciklus iterációra\n",
    "    print(i)\n",
    "print(\"Ciklus vége\")"
   ]
  },
  {
   "cell_type": "code",
   "execution_count": null,
   "metadata": {},
   "outputs": [
    {
     "name": "stdout",
     "output_type": "stream",
     "text": [
      "1\n",
      "3\n",
      "5\n",
      "7\n",
      "9\n",
      "Ciklus vége\n"
     ]
    }
   ],
   "source": [
    "for i in range(10):\n",
    "    if i % 2 == 0:\n",
    "        continue # kihagyja a páros számokat\n",
    "    print(i)\n",
    "print(\"Ciklus vége\")"
   ]
  },
  {
   "cell_type": "code",
   "execution_count": null,
   "metadata": {},
   "outputs": [
    {
     "name": "stdout",
     "output_type": "stream",
     "text": [
      "Ciklus vége\n"
     ]
    }
   ],
   "source": [
    "for i in range(100):\n",
    "    if i > 10: # 10-nél megtörik a ciklus\n",
    "        break\n",
    "else:\n",
    "    print(\"A ciklus break nélkül lefutott\") # mivel break-kel léptünk ki, így az else ágban lévő rész nem fut le\n",
    "print(\"Ciklus vége\")"
   ]
  },
  {
   "cell_type": "code",
   "execution_count": null,
   "metadata": {},
   "outputs": [
    {
     "name": "stdout",
     "output_type": "stream",
     "text": [
      "x: 0, y: 0\n",
      "x: 0, y: 1\n",
      "x: 0, y: 2\n",
      "x: 0, y: 3\n",
      "x: 0, y: 4\n",
      "x: 1, y: 0\n",
      "x: 1, y: 1\n",
      "x: 1, y: 2\n",
      "x: 1, y: 3\n",
      "x: 1, y: 4\n",
      "x: 2, y: 0\n",
      "x: 2, y: 1\n",
      "x: 2, y: 2\n",
      "x: 2, y: 3\n",
      "x: 2, y: 4\n"
     ]
    }
   ],
   "source": [
    "for x in range(3):\n",
    "    for y in range(5):\n",
    "        print(f\"x: {x}, y: {y}\")"
   ]
  },
  {
   "cell_type": "code",
   "execution_count": null,
   "metadata": {},
   "outputs": [
    {
     "name": "stdout",
     "output_type": "stream",
     "text": [
      "x: 0, y: 0\n",
      "x: 0, y: 1\n",
      "x: 0, y: 2\n",
      "x: 0, y: 3\n",
      "x: 0, y: 4\n",
      "x: 1, y: 0\n",
      "x: 1, y: 1\n",
      "x: 1, y: 2\n",
      "x: 1, y: 3\n",
      "x: 1, y: 4\n",
      "x: 2, y: 0\n",
      "x: 2, y: 1\n",
      "x: 2, y: 2\n",
      "x: 2, y: 3\n",
      "x: 2, y: 4\n"
     ]
    }
   ],
   "source": [
    "for x in range(3):\n",
    "    for y in range(10):\n",
    "        if y == 5:\n",
    "            break\n",
    "        print(f\"x: {x}, y: {y}\")"
   ]
  },
  {
   "cell_type": "markdown",
   "metadata": {},
   "source": [
    "### For iterálás stringen"
   ]
  },
  {
   "cell_type": "code",
   "execution_count": null,
   "metadata": {},
   "outputs": [
    {
     "name": "stdout",
     "output_type": "stream",
     "text": [
      "a\n",
      "l\n",
      "m\n",
      "a\n",
      " \n",
      "a\n",
      " \n",
      "f\n",
      "a\n",
      " \n",
      "a\n",
      "l\n",
      "a\n",
      "t\n",
      "t\n"
     ]
    }
   ],
   "source": [
    "for karakter in \"alma a fa alatt\":\n",
    "    print(karakter)"
   ]
  },
  {
   "cell_type": "code",
   "execution_count": null,
   "metadata": {},
   "outputs": [],
   "source": [
    "import random # random nevű könyvtár importálása, a pythonban random dolgokat lehet generálni vele"
   ]
  },
  {
   "cell_type": "code",
   "execution_count": null,
   "metadata": {},
   "outputs": [
    {
     "data": {
      "text/plain": [
       "20"
      ]
     },
     "execution_count": 104,
     "metadata": {},
     "output_type": "execute_result"
    }
   ],
   "source": [
    "random.randint(0, 100) # random számokat generál 0 és 100 között"
   ]
  },
  {
   "cell_type": "code",
   "execution_count": null,
   "metadata": {},
   "outputs": [
    {
     "data": {
      "text/plain": [
       "False"
      ]
     },
     "execution_count": 126,
     "metadata": {},
     "output_type": "execute_result"
    }
   ],
   "source": [
    "bool(random.randint(0, 1)) # random érték átkonvertálása bool-lá"
   ]
  },
  {
   "cell_type": "code",
   "execution_count": null,
   "metadata": {},
   "outputs": [
    {
     "name": "stdout",
     "output_type": "stream",
     "text": [
      "mA Nem MegyeK veleTEk, MErt EsTig dOLgozom\n"
     ]
    }
   ],
   "source": [
    "szoveg = \"Ma nem megyek veletek, mert estig dolgozom\"\n",
    "mockolt_szoveg = \"\"\n",
    "for betu in szoveg:\n",
    "    if bool(random.randint(0, 1)):\n",
    "        mockolt_szoveg += betu.upper() # ha az érték 1, akkor az if feltétel igaz lesz\n",
    "    else:\n",
    "        mockolt_szoveg += betu.lower() # ha az érték 0, akkor hamis, tehát az else ág érvényesül\n",
    "print(mockolt_szoveg)"
   ]
  },
  {
   "cell_type": "code",
   "execution_count": null,
   "metadata": {},
   "outputs": [
    {
     "data": {
      "text/plain": [
       "'alma a fa alatt'"
      ]
     },
     "execution_count": 134,
     "metadata": {},
     "output_type": "execute_result"
    }
   ],
   "source": [
    "\"ALMa A Fa alATt\".lower()"
   ]
  },
  {
   "cell_type": "code",
   "execution_count": null,
   "metadata": {},
   "outputs": [
    {
     "data": {
      "text/plain": [
       "'ALMA A FA ALATT'"
      ]
     },
     "execution_count": 135,
     "metadata": {},
     "output_type": "execute_result"
    }
   ],
   "source": [
    "\"alma a fa alatt\".upper()"
   ]
  },
  {
   "cell_type": "markdown",
   "metadata": {},
   "source": [
    "## Listák"
   ]
  },
  {
   "cell_type": "code",
   "execution_count": null,
   "metadata": {},
   "outputs": [],
   "source": [
    "# tárolók melyek egyszerre több elemet képesek tartalmazni"
   ]
  },
  {
   "cell_type": "code",
   "execution_count": null,
   "metadata": {},
   "outputs": [
    {
     "name": "stdout",
     "output_type": "stream",
     "text": [
      "0 5 5 92 232\n"
     ]
    }
   ],
   "source": [
    "# öt szám rendezése listák nélkül -> bonyolult és túl hosszadalmas\n",
    "a, b, c, d, e = 5, 232, 5, 0, 92\n",
    "\n",
    "# ha találunk az első elemnél kisebbet, megcseréljük őket\n",
    "if a > b:\n",
    "    a, b = b, a\n",
    "if a > c:\n",
    "    a, c = c, a\n",
    "if a > d:\n",
    "    a, d = d, a\n",
    "if a > e:\n",
    "    a, e = e, a\n",
    "\n",
    "# és így tovább\n",
    "if b > c:\n",
    "    b, c = c, b\n",
    "if b > d:\n",
    "    b, d = d, b\n",
    "if b > e:\n",
    "    b, e = e, b\n",
    "\n",
    "if c > d:\n",
    "    c, d = d, c\n",
    "if c > e:\n",
    "    c, e = e, c\n",
    "\n",
    "if d > e:\n",
    "    d, e = e, d\n",
    "\n",
    "# ez listák nélkül az 5 elem rendezésénél 4+3+2+1=10 összehasonlítás, általánosan n*(n-1)/2 if ág\n",
    "print(a, b, c, d, e)\n"
   ]
  },
  {
   "cell_type": "code",
   "execution_count": null,
   "metadata": {},
   "outputs": [],
   "source": [
    "l = [5, 232, 5, 0, 92]"
   ]
  },
  {
   "cell_type": "code",
   "execution_count": null,
   "metadata": {},
   "outputs": [
    {
     "name": "stdout",
     "output_type": "stream",
     "text": [
      "[0, 5, 5, 92, 232]\n"
     ]
    }
   ],
   "source": [
    "l.sort()\n",
    "print(l)"
   ]
  },
  {
   "cell_type": "code",
   "execution_count": null,
   "metadata": {},
   "outputs": [
    {
     "data": {
      "text/plain": [
       "[0, 5, 5, 92, 232]"
      ]
     },
     "execution_count": 9,
     "metadata": {},
     "output_type": "execute_result"
    }
   ],
   "source": [
    "sorted(l)"
   ]
  },
  {
   "cell_type": "code",
   "execution_count": null,
   "metadata": {},
   "outputs": [
    {
     "data": {
      "text/plain": [
       "[5, 231432, 45, True, 'alma', False, 54, [0, 0, 2], 8, '4']"
      ]
     },
     "execution_count": 13,
     "metadata": {},
     "output_type": "execute_result"
    }
   ],
   "source": [
    "[5, 231432, 45, True, \"alma\", False, 54, [0, 0, 2], 2 ** 3, input(\"add meg az utolsó elemet\")]"
   ]
  },
  {
   "cell_type": "code",
   "execution_count": null,
   "metadata": {},
   "outputs": [
    {
     "data": {
      "text/plain": [
       "['a', 'b', 'c', 'd', 'e']"
      ]
     },
     "execution_count": 4,
     "metadata": {},
     "output_type": "execute_result"
    }
   ],
   "source": [
    "lista = [\"a\", \"b\", \"c\", \"d\", \"e\"]\n",
    "lista"
   ]
  },
  {
   "cell_type": "code",
   "execution_count": null,
   "metadata": {},
   "outputs": [
    {
     "data": {
      "text/plain": [
       "'c'"
      ]
     },
     "execution_count": 16,
     "metadata": {},
     "output_type": "execute_result"
    }
   ],
   "source": [
    "lista[2]"
   ]
  },
  {
   "cell_type": "code",
   "execution_count": null,
   "metadata": {},
   "outputs": [
    {
     "data": {
      "text/plain": [
       "['e', 'b', 'c', 'd', 'e']"
      ]
     },
     "execution_count": 18,
     "metadata": {},
     "output_type": "execute_result"
    }
   ],
   "source": [
    "lista[0] = lista[4]\n",
    "lista"
   ]
  },
  {
   "cell_type": "code",
   "execution_count": null,
   "metadata": {},
   "outputs": [
    {
     "data": {
      "text/plain": [
       "5"
      ]
     },
     "execution_count": 20,
     "metadata": {},
     "output_type": "execute_result"
    }
   ],
   "source": [
    "len(lista) # lista hosszát adja vissza"
   ]
  },
  {
   "cell_type": "code",
   "execution_count": null,
   "metadata": {},
   "outputs": [
    {
     "data": {
      "text/plain": [
       "4"
      ]
     },
     "execution_count": 1,
     "metadata": {},
     "output_type": "execute_result"
    }
   ],
   "source": [
    "len(\"alma\") # működik string-eknél is"
   ]
  },
  {
   "cell_type": "code",
   "execution_count": null,
   "metadata": {},
   "outputs": [
    {
     "data": {
      "text/plain": [
       "'e'"
      ]
     },
     "execution_count": 8,
     "metadata": {},
     "output_type": "execute_result"
    }
   ],
   "source": [
    "lista[len(lista)-1] # utolsó elem lekérése"
   ]
  },
  {
   "cell_type": "code",
   "execution_count": null,
   "metadata": {},
   "outputs": [
    {
     "data": {
      "text/plain": [
       "'e'"
      ]
     },
     "execution_count": 10,
     "metadata": {},
     "output_type": "execute_result"
    }
   ],
   "source": [
    "lista[-1] # utolsó elem lekérése"
   ]
  },
  {
   "cell_type": "code",
   "execution_count": null,
   "metadata": {},
   "outputs": [
    {
     "data": {
      "text/plain": [
       "'a'"
      ]
     },
     "execution_count": 13,
     "metadata": {},
     "output_type": "execute_result"
    }
   ],
   "source": [
    "list(\"alma\")[-1]"
   ]
  },
  {
   "cell_type": "code",
   "execution_count": null,
   "metadata": {},
   "outputs": [
    {
     "data": {
      "text/plain": [
       "[0, 1, 2, 3, 4, 5, 6, 7, 8, 9]"
      ]
     },
     "execution_count": 15,
     "metadata": {},
     "output_type": "execute_result"
    }
   ],
   "source": [
    "list(range(10))"
   ]
  },
  {
   "cell_type": "code",
   "execution_count": null,
   "metadata": {},
   "outputs": [
    {
     "data": {
      "text/plain": [
       "[100, 90, 80, 70, 60, 50, 40, 30, 20, 10, 0]"
      ]
     },
     "execution_count": 17,
     "metadata": {},
     "output_type": "execute_result"
    }
   ],
   "source": [
    "list(range(100, -1, -10))"
   ]
  },
  {
   "cell_type": "code",
   "execution_count": null,
   "metadata": {},
   "outputs": [
    {
     "data": {
      "text/plain": [
       "['a', 'l', 'm', 'a', ' ', 'a', ' ', 'f', 'a', ' ', 'a', 'l', 'a', 't', 't']"
      ]
     },
     "execution_count": 19,
     "metadata": {},
     "output_type": "execute_result"
    }
   ],
   "source": [
    "list(\"alma a fa alatt\")"
   ]
  },
  {
   "cell_type": "code",
   "execution_count": null,
   "metadata": {},
   "outputs": [
    {
     "data": {
      "text/plain": [
       "['alma', 'a', 'fa', 'alatt']"
      ]
     },
     "execution_count": 55,
     "metadata": {},
     "output_type": "execute_result"
    }
   ],
   "source": [
    "\"alma a fa alatt\".split(\" \")"
   ]
  },
  {
   "cell_type": "code",
   "execution_count": null,
   "metadata": {},
   "outputs": [
    {
     "data": {
      "text/plain": [
       "['alma a fa alatt', 'nyári piros alma']"
      ]
     },
     "execution_count": 56,
     "metadata": {},
     "output_type": "execute_result"
    }
   ],
   "source": [
    "\"alma a fa alatt, nyári piros alma\".split(\", \")"
   ]
  },
  {
   "cell_type": "code",
   "execution_count": null,
   "metadata": {},
   "outputs": [],
   "source": [
    "# függvény vs metódus\n",
    "# fuggveny(parameterek)\n",
    "# valami.metodus(parameterek)"
   ]
  },
  {
   "cell_type": "code",
   "execution_count": null,
   "metadata": {},
   "outputs": [],
   "source": [
    "# lista elem hozzáadása, elvétel"
   ]
  },
  {
   "cell_type": "code",
   "execution_count": null,
   "metadata": {},
   "outputs": [
    {
     "data": {
      "text/plain": [
       "[0, 1, 2, 3, 4, 5, 6, 7, 8, 9]"
      ]
     },
     "execution_count": 25,
     "metadata": {},
     "output_type": "execute_result"
    }
   ],
   "source": [
    "l = list(range(10))\n",
    "l"
   ]
  },
  {
   "cell_type": "code",
   "execution_count": null,
   "metadata": {},
   "outputs": [
    {
     "data": {
      "text/plain": [
       "[0, 1, 2, 3, 4, 5, 6, 7, 8, 9, 99]"
      ]
     },
     "execution_count": 26,
     "metadata": {},
     "output_type": "execute_result"
    }
   ],
   "source": [
    "l.append(99) # hozzáadás\n",
    "l"
   ]
  },
  {
   "cell_type": "code",
   "execution_count": null,
   "metadata": {},
   "outputs": [
    {
     "data": {
      "text/plain": [
       "99"
      ]
     },
     "execution_count": 28,
     "metadata": {},
     "output_type": "execute_result"
    }
   ],
   "source": [
    "# utolsó elem törlése és visszaadása\n",
    "l.pop()"
   ]
  },
  {
   "cell_type": "code",
   "execution_count": null,
   "metadata": {},
   "outputs": [
    {
     "data": {
      "text/plain": [
       "[0, 1, 2, 3, 4, 5, 6, 7, 8, 9]"
      ]
     },
     "execution_count": 30,
     "metadata": {},
     "output_type": "execute_result"
    }
   ],
   "source": [
    "l"
   ]
  },
  {
   "cell_type": "code",
   "execution_count": null,
   "metadata": {},
   "outputs": [],
   "source": [
    "# adott indexre beszúrhatunk egy objektumot, nem lecseréli, nem törli az adott elemet, hanem odébcsúsztatja a többi elemet\n",
    "l.insert(0, 99)"
   ]
  },
  {
   "cell_type": "code",
   "execution_count": null,
   "metadata": {},
   "outputs": [
    {
     "data": {
      "text/plain": [
       "[99, 99, 99, 0, 1, 2, 3, 4, 5, 6, 7, 8, 9]"
      ]
     },
     "execution_count": 36,
     "metadata": {},
     "output_type": "execute_result"
    }
   ],
   "source": [
    "l"
   ]
  },
  {
   "cell_type": "code",
   "execution_count": null,
   "metadata": {},
   "outputs": [],
   "source": [
    "l.insert(3, 35)"
   ]
  },
  {
   "cell_type": "code",
   "execution_count": null,
   "metadata": {},
   "outputs": [
    {
     "data": {
      "text/plain": [
       "[99, 99, 99, 35, 0, 1, 2, 3, 4, 5, 6, 7, 8, 9]"
      ]
     },
     "execution_count": 38,
     "metadata": {},
     "output_type": "execute_result"
    }
   ],
   "source": [
    "l"
   ]
  },
  {
   "cell_type": "code",
   "execution_count": null,
   "metadata": {},
   "outputs": [
    {
     "name": "stdout",
     "output_type": "stream",
     "text": [
      "[4, 3, 2, 1, 0]\n"
     ]
    }
   ],
   "source": [
    "l = [] # üres lista létrehozása\n",
    "for i in range(5):\n",
    "    l.insert(0, i)\n",
    "print(l)"
   ]
  },
  {
   "cell_type": "code",
   "execution_count": null,
   "metadata": {},
   "outputs": [
    {
     "name": "stdout",
     "output_type": "stream",
     "text": [
      "KATA\n",
      "RÓBERT\n",
      "HENDRIK\n",
      "SELENA\n",
      "ALYSA\n"
     ]
    }
   ],
   "source": [
    "nevek = [\"Kata\", \"Róbert\", \"Hendrik\", \"Selena\", \"Alysa\"]\n",
    "for name in nevek:\n",
    "    print(name.upper())"
   ]
  },
  {
   "cell_type": "code",
   "execution_count": null,
   "metadata": {},
   "outputs": [
    {
     "name": "stdout",
     "output_type": "stream",
     "text": [
      "Kata\n",
      "Róbert\n",
      "Hendrik\n",
      "Selena\n",
      "Alysa\n"
     ]
    }
   ],
   "source": [
    "nevek = [\"Kata\", \"Róbert\", \"Hendrik\", \"Selena\", \"Alysa\"]\n",
    "for i in range(len(l)):\n",
    "    print(nevek[i])"
   ]
  },
  {
   "cell_type": "code",
   "execution_count": null,
   "metadata": {},
   "outputs": [
    {
     "name": "stdout",
     "output_type": "stream",
     "text": [
      "Az 0. név: Kata\n",
      "Az 1. név: Róbert\n",
      "Az 2. név: Hendrik\n",
      "Az 3. név: Selena\n",
      "Az 4. név: Alysa\n"
     ]
    }
   ],
   "source": [
    "nevek = [\"Kata\", \"Róbert\", \"Hendrik\", \"Selena\", \"Alysa\"]\n",
    "for i in range(len(l)):\n",
    "    nev = nevek[i]\n",
    "    print(f\"Az {i}. név: {nev}\")"
   ]
  },
  {
   "cell_type": "code",
   "execution_count": null,
   "metadata": {},
   "outputs": [
    {
     "name": "stdout",
     "output_type": "stream",
     "text": [
      "1: Kata\n",
      "2: Róbert\n",
      "3: Hendrik\n",
      "4: Selena\n",
      "5: Alysa\n"
     ]
    }
   ],
   "source": [
    "nevek = [\"Kata\", \"Róbert\", \"Hendrik\", \"Selena\", \"Alysa\"]\n",
    "for i, nev in enumerate(nevek):\n",
    "    print(f\"{i+1}: {nev}\")"
   ]
  },
  {
   "cell_type": "code",
   "execution_count": null,
   "metadata": {},
   "outputs": [
    {
     "name": "stdout",
     "output_type": "stream",
     "text": [
      "0: a\n",
      "1: l\n",
      "2: m\n",
      "3: a\n"
     ]
    }
   ],
   "source": [
    "for i, karakter in enumerate(\"alma\"):\n",
    "    print(f\"{i}: {karakter}\")"
   ]
  },
  {
   "cell_type": "code",
   "execution_count": null,
   "metadata": {},
   "outputs": [
    {
     "name": "stdout",
     "output_type": "stream",
     "text": [
      "alma\n",
      "alma\n",
      "alma\n",
      "almaZ\n"
     ]
    }
   ],
   "source": [
    "# a listák referenciák\n",
    "a = \"alma\"\n",
    "b = a\n",
    "print(a)\n",
    "print(b)\n",
    "\n",
    "b += \"Z\"\n",
    "print(a)\n",
    "print(b)\n"
   ]
  },
  {
   "cell_type": "code",
   "execution_count": null,
   "metadata": {},
   "outputs": [
    {
     "name": "stdout",
     "output_type": "stream",
     "text": [
      "[1, 2, 3, 3]\n",
      "[1, 2, 3, 3]\n",
      "[1, 2, 3, 3, 99]\n",
      "[1, 2, 3, 3, 99]\n"
     ]
    }
   ],
   "source": [
    "l1 = [1, 2, 3, 3] # 2. amikor azt mondom, hogy l1 = ... akkor a memóriában létrejön egy adat, ami ezeket az elemeket tartalmazza, \n",
    "# ekkor az l1 változó értéke egy referencia, egy cím, amivel eléri ezt az adatot\n",
    "l2 = l1 # amikor azt mondom, hogy l2 változó értéke legyen egyenlőr l1 változó értékével, akkor azt mondom, hogy a címet (l1), ami \n",
    "# a lista adatra mutat, ezt odaadom l2-nek is és ezáltal, hogyha én l2 címje által hivatkozott lista adatot megváltoztatom, \n",
    "# akkor a háttéradat megváltozik\n",
    "print(l1)\n",
    "print(l2)\n",
    "l2.append(99) # 1. l2-höz hozzáfűztük a 99-es értéket, de ezzel l1 is megváltozott, mert\n",
    "print(l1)\n",
    "print(l2)"
   ]
  },
  {
   "cell_type": "code",
   "execution_count": null,
   "metadata": {},
   "outputs": [
    {
     "name": "stdout",
     "output_type": "stream",
     "text": [
      "[1, 2, 3, 3]\n",
      "[1, 2, 3, 3]\n",
      "[1, 2, 3, 3]\n",
      "[1, 2, 3, 3, 99]\n"
     ]
    }
   ],
   "source": [
    "l1 = [1, 2, 3, 3]\n",
    "l2 = l1.copy() # copy metódus hívása - másolatot készít a listáról, ez esetben az l2 módisítása nem vonja maga után l1 módosítását\n",
    "# hiszen az l1.copy() a memóriában külön helyet foglal. Más a háttéradat\n",
    "print(l1)\n",
    "print(l2)\n",
    "l2.append(99) \n",
    "print(l1)\n",
    "print(l2)"
   ]
  },
  {
   "cell_type": "markdown",
   "metadata": {},
   "source": [
    "#### Slice-olás"
   ]
  },
  {
   "cell_type": "code",
   "execution_count": null,
   "metadata": {},
   "outputs": [
    {
     "data": {
      "text/plain": [
       "[0, 1, 2, 3, 4, 5, 6, 7, 8, 9]"
      ]
     },
     "metadata": {},
     "output_type": "display_data"
    }
   ],
   "source": [
    "l = list(range(10))\n",
    "l"
   ]
  },
  {
   "cell_type": "code",
   "execution_count": null,
   "metadata": {},
   "outputs": [
    {
     "data": {
      "text/plain": [
       "9"
      ]
     },
     "metadata": {},
     "output_type": "display_data"
    }
   ],
   "source": [
    "l[-1]"
   ]
  },
  {
   "cell_type": "code",
   "execution_count": null,
   "metadata": {},
   "outputs": [
    {
     "data": {
      "text/plain": [
       "7"
      ]
     },
     "metadata": {},
     "output_type": "display_data"
    }
   ],
   "source": [
    "l[7]"
   ]
  },
  {
   "cell_type": "code",
   "execution_count": null,
   "metadata": {},
   "outputs": [
    {
     "data": {
      "text/plain": [
       "[0, 1, 2, 3, 4, 5, 6, 7, 8, 9]"
      ]
     },
     "metadata": {},
     "output_type": "display_data"
    }
   ],
   "source": [
    "l[:]"
   ]
  },
  {
   "cell_type": "code",
   "execution_count": null,
   "metadata": {},
   "outputs": [
    {
     "data": {
      "text/plain": [
       "[1, 2, 3, 4, 5]"
      ]
     },
     "metadata": {},
     "output_type": "display_data"
    }
   ],
   "source": [
    "l[1:6] # lista első elemétől a 6. eleméig, úgy, hogy a 6. elem már nincs benne"
   ]
  },
  {
   "cell_type": "code",
   "execution_count": null,
   "metadata": {},
   "outputs": [
    {
     "data": {
      "text/plain": [
       "[0, 1, 2, 3, 4]"
      ]
     },
     "metadata": {},
     "output_type": "display_data"
    }
   ],
   "source": [
    "l[:5]"
   ]
  },
  {
   "cell_type": "code",
   "execution_count": null,
   "metadata": {},
   "outputs": [
    {
     "data": {
      "text/plain": [
       "[0, 2, 4, 6]"
      ]
     },
     "metadata": {},
     "output_type": "display_data"
    }
   ],
   "source": [
    "l[0:8:2] # 0. elemtől 8. elemig, kettessével"
   ]
  },
  {
   "cell_type": "code",
   "execution_count": null,
   "metadata": {},
   "outputs": [
    {
     "data": {
      "text/plain": [
       "[9, 8, 7, 6, 5, 4, 3, 2]"
      ]
     },
     "metadata": {},
     "output_type": "display_data"
    }
   ],
   "source": [
    "l[9:1:-1]"
   ]
  },
  {
   "cell_type": "code",
   "execution_count": null,
   "metadata": {},
   "outputs": [
    {
     "data": {
      "text/plain": [
       "[9, 8, 7, 6, 5, 4, 3, 2, 1, 0]"
      ]
     },
     "metadata": {},
     "output_type": "display_data"
    }
   ],
   "source": [
    "l[::-1]"
   ]
  },
  {
   "cell_type": "code",
   "execution_count": null,
   "metadata": {},
   "outputs": [
    {
     "name": "stdout",
     "output_type": "stream",
     "text": [
      "[0, 1, 2, 3, 4, 5, 6, 7, 8, 9]\n",
      "[0, 1, 2, 3, 4, 5, 6, 7, 8, 9]\n",
      "[0, 1, 2, 3, 4, 5, 6, 7, 8, 9]\n",
      "[99, 1, 2, 3, 4, 5, 6, 7, 8, 9]\n"
     ]
    }
   ],
   "source": [
    "l1 = l.copy()\n",
    "l2 = l1[:]\n",
    "print(l1)\n",
    "print(l2)\n",
    "l2[0] = 99\n",
    "print(l1)\n",
    "print(l2)"
   ]
  },
  {
   "cell_type": "code",
   "execution_count": null,
   "metadata": {},
   "outputs": [
    {
     "data": {
      "text/plain": [
       "False"
      ]
     },
     "metadata": {},
     "output_type": "display_data"
    }
   ],
   "source": [
    "99 in l1"
   ]
  },
  {
   "cell_type": "code",
   "execution_count": null,
   "metadata": {},
   "outputs": [
    {
     "data": {
      "text/plain": [
       "True"
      ]
     },
     "metadata": {},
     "output_type": "display_data"
    }
   ],
   "source": [
    "99 in l2"
   ]
  },
  {
   "cell_type": "code",
   "execution_count": null,
   "metadata": {},
   "outputs": [
    {
     "data": {
      "text/plain": [
       "True"
      ]
     },
     "metadata": {},
     "output_type": "display_data"
    }
   ],
   "source": [
    "\"m\" in \"alma\""
   ]
  },
  {
   "cell_type": "code",
   "execution_count": null,
   "metadata": {},
   "outputs": [
    {
     "data": {
      "text/plain": [
       "True"
      ]
     },
     "metadata": {},
     "output_type": "display_data"
    }
   ],
   "source": [
    "\"alma\" in \"almafa\""
   ]
  },
  {
   "cell_type": "code",
   "execution_count": null,
   "metadata": {},
   "outputs": [
    {
     "data": {
      "text/plain": [
       "True"
      ]
     },
     "metadata": {},
     "output_type": "display_data"
    }
   ],
   "source": [
    "99 not in l1"
   ]
  },
  {
   "cell_type": "code",
   "execution_count": null,
   "metadata": {},
   "outputs": [
    {
     "data": {
      "text/plain": [
       "False"
      ]
     },
     "metadata": {},
     "output_type": "display_data"
    }
   ],
   "source": [
    "99 not in l2"
   ]
  },
  {
   "cell_type": "code",
   "execution_count": null,
   "metadata": {},
   "outputs": [
    {
     "name": "stdout",
     "output_type": "stream",
     "text": [
      "[[0, 1, 2, 3, 4], [0, 1, 2, 3, 4], [0, 1, 2, 3, 4], [0, 1, 2, 3, 4], [0, 1, 2, 3, 4]]\n"
     ]
    }
   ],
   "source": [
    "# kompozit lista - olyan lista, amely önmaga is listákat tartalmaz\n",
    "l = [] # üres listával kezdünk\n",
    "for i in range(5): # végigiterálunk 0-tól 5-ig\n",
    "    l.append(list(range(5)))\n",
    "print(l)"
   ]
  },
  {
   "cell_type": "code",
   "execution_count": null,
   "metadata": {},
   "outputs": [
    {
     "name": "stdout",
     "output_type": "stream",
     "text": [
      "[[0, 1, 2, 3, 4], [5, 6, 7, 8, 9], [10, 11, 12, 13, 14], [15, 16, 17, 18, 19], [20, 21, 22, 23, 24]]\n"
     ]
    }
   ],
   "source": [
    "l = [] \n",
    "for i in range(5):\n",
    "    l.append(list(range(5*i, 5*i+5)))\n",
    "print(l)"
   ]
  },
  {
   "cell_type": "code",
   "execution_count": null,
   "metadata": {},
   "outputs": [
    {
     "data": {
      "text/plain": [
       "[[0, 1, 2, 3, 4],\n",
       " [5, 6, 7, 8, 9],\n",
       " [10, 11, 12, 13, 14],\n",
       " [15, 16, 17, 18, 19],\n",
       " [20, 21, 22, 23, 24]]"
      ]
     },
     "metadata": {},
     "output_type": "display_data"
    }
   ],
   "source": [
    "# ha nem a print-et használom\n",
    "l = [] \n",
    "for i in range(5):\n",
    "    l.append(list(range(5*i, 5*i+5)))\n",
    "l"
   ]
  },
  {
   "cell_type": "code",
   "execution_count": null,
   "metadata": {},
   "outputs": [
    {
     "data": {
      "text/plain": [
       "[5, 6, 7, 8, 9]"
      ]
     },
     "metadata": {},
     "output_type": "display_data"
    }
   ],
   "source": [
    "l[1]"
   ]
  },
  {
   "cell_type": "code",
   "execution_count": null,
   "metadata": {},
   "outputs": [
    {
     "data": {
      "text/plain": [
       "8"
      ]
     },
     "metadata": {},
     "output_type": "display_data"
    }
   ],
   "source": [
    "l[1][3] # először a külsőt, aztán a belsőt indexeljük"
   ]
  },
  {
   "cell_type": "code",
   "execution_count": null,
   "metadata": {},
   "outputs": [
    {
     "data": {
      "text/plain": [
       "[[0, 1, 2, 3, 4],\n",
       " [5, 6, 7, 8, 99],\n",
       " [10, 11, 12, 13, 14],\n",
       " [15, 16, 17, 18, 19],\n",
       " [20, 21, 22, 23, 24]]"
      ]
     },
     "metadata": {},
     "output_type": "display_data"
    }
   ],
   "source": [
    "l[1][-1] = 99\n",
    "l"
   ]
  },
  {
   "cell_type": "code",
   "execution_count": null,
   "metadata": {},
   "outputs": [],
   "source": [
    "# numpy sajátossága lesz, hogy ott kézenfekvően lehet akárhánydimenziós tömböket sokféle módon létrehozni\n",
    "# python-ban afentebb látható módon tudju kezeket definiálni"
   ]
  },
  {
   "cell_type": "code",
   "execution_count": 16,
   "metadata": {},
   "outputs": [
    {
     "data": {
      "text/plain": [
       "[[0, 0, 0, 0], [0, 0, 0, 0], [0, 0, 0, 0], [0, 0, 0, 0], [0, 0, 0, 0]]"
      ]
     },
     "execution_count": 16,
     "metadata": {},
     "output_type": "execute_result"
    }
   ],
   "source": [
    "outer_list = []\n",
    "inner_list = [0, 0, 0, 0]\n",
    "for i in range(5):\n",
    "    outer_list.append(inner_list)\n",
    "outer_list\n"
   ]
  },
  {
   "cell_type": "code",
   "execution_count": null,
   "metadata": {},
   "outputs": [
    {
     "data": {
      "text/plain": [
       "[[0, 0, 0, 99], [0, 0, 0, 99], [0, 0, 0, 99], [0, 0, 0, 99], [0, 0, 0, 99]]"
      ]
     },
     "metadata": {},
     "output_type": "display_data"
    }
   ],
   "source": [
    "outer_list[0][-1]= 99\n",
    "outer_list\n",
    "\n",
    "# mindegyik belső lista utolsó eleme 99 lett, mivel az összes lista elem egy referencia ugyanarra háttéradatra\n",
    "# ezért, ha az egyiket módosítom, akkor mindet módosítom"
   ]
  },
  {
   "cell_type": "code",
   "execution_count": null,
   "metadata": {},
   "outputs": [
    {
     "data": {
      "text/plain": [
       "[[0, 0, 0, 0], [0, 0, 0, 0], [0, 0, 0, 0], [0, 0, 0, 0], [0, 0, 0, 0]]"
      ]
     },
     "metadata": {},
     "output_type": "display_data"
    }
   ],
   "source": [
    "# ennek kiküszöbölése, ha minden egyes ciklus lépésben definiálom a belső lista elemeit vagy copyt használok\n",
    "# copy hazsnálata cikluson belül: outer_list.append(inner_list.copy())\n",
    "outer_list = []\n",
    "for i in range(5):\n",
    "    outer_list.append([0, 0, 0, 0])\n",
    "outer_list"
   ]
  },
  {
   "cell_type": "code",
   "execution_count": null,
   "metadata": {},
   "outputs": [
    {
     "data": {
      "text/plain": [
       "[[0, 0, 0, 0], [0, 0, 0, 99], [0, 0, 0, 0], [0, 0, 0, 0], [0, 0, 0, 0]]"
      ]
     },
     "metadata": {},
     "output_type": "display_data"
    }
   ],
   "source": [
    "outer_list[1][-1] = 99\n",
    "outer_list"
   ]
  },
  {
   "cell_type": "code",
   "execution_count": null,
   "metadata": {},
   "outputs": [
    {
     "name": "stdout",
     "output_type": "stream",
     "text": [
      "[0, 1, 2, 3, 4, 5, 6, 7, 8, 9]\n",
      "[0, 1, 4, 9, 16, 25, 36, 49, 64, 81]\n"
     ]
    }
   ],
   "source": [
    "# számok négyzeteinek kiírása\n",
    "\n",
    "szamok = list(range(10))\n",
    "print(szamok)\n",
    "\n",
    "negyzetek = []\n",
    "for szam in szamok:\n",
    "    negyzetek.append(szam ** 2)\n",
    "print(negyzetek)"
   ]
  },
  {
   "cell_type": "code",
   "execution_count": null,
   "metadata": {},
   "outputs": [
    {
     "data": {
      "text/plain": [
       "[0, 1, 4, 9, 16, 25, 36, 49, 64, 81]"
      ]
     },
     "metadata": {},
     "output_type": "display_data"
    }
   ],
   "source": [
    "# ilyen fajta problémákra van egy kézenfekvőbb dolog: list comprehension\n",
    "# ciklus által létrehozott listákat tudunk leegyszerűsíteni\n",
    "\n",
    "negyzetek = [szam ** 2 for szam in range(10)]\n",
    "negyzetek"
   ]
  },
  {
   "cell_type": "code",
   "execution_count": null,
   "metadata": {},
   "outputs": [
    {
     "data": {
      "text/plain": [
       "['alma', 'alma', 'alma', 'alma', 'alma', 'alma']"
      ]
     },
     "metadata": {},
     "output_type": "display_data"
    }
   ],
   "source": [
    "[\"alma\" for i in range(6)]"
   ]
  },
  {
   "cell_type": "code",
   "execution_count": null,
   "metadata": {},
   "outputs": [
    {
     "name": "stdout",
     "output_type": "stream",
     "text": [
      "[1, 2, 3, 4, 6]\n"
     ]
    }
   ],
   "source": [
    "szam = int(input(\"Adj meg egy számot és én megmondom az osztóit!\"))\n",
    "\n",
    "osztok = []\n",
    "for oszto in range(1, szam):\n",
    "    if szam % oszto == 0:\n",
    "        osztok.append(oszto)\n",
    "\n",
    "print(osztok)\n"
   ]
  },
  {
   "cell_type": "code",
   "execution_count": null,
   "metadata": {},
   "outputs": [
    {
     "data": {
      "text/plain": [
       "[1, 2, 3, 4, 6]"
      ]
     },
     "metadata": {},
     "output_type": "display_data"
    }
   ],
   "source": [
    "szam = int(input(\"Adj meg egy számot és én megmondom az osztóit!\"))\n",
    "[oszto for oszto in range(1, szam) if szam % oszto == 0]"
   ]
  },
  {
   "cell_type": "code",
   "execution_count": null,
   "metadata": {},
   "outputs": [
    {
     "data": {
      "text/plain": [
       "[[1, 2, 3, 4, 5, 6, 7, 8, 9, 10],\n",
       " [2, 4, 6, 8, 10, 12, 14, 16, 18, 20],\n",
       " [3, 6, 9, 12, 15, 18, 21, 24, 27, 30],\n",
       " [4, 8, 12, 16, 20, 24, 28, 32, 36, 40],\n",
       " [5, 10, 15, 20, 25, 30, 35, 40, 45, 50],\n",
       " [6, 12, 18, 24, 30, 36, 42, 48, 54, 60],\n",
       " [7, 14, 21, 28, 35, 42, 49, 56, 63, 70],\n",
       " [8, 16, 24, 32, 40, 48, 56, 64, 72, 80],\n",
       " [9, 18, 27, 36, 45, 54, 63, 72, 81, 90],\n",
       " [10, 20, 30, 40, 50, 60, 70, 80, 90, 100]]"
      ]
     },
     "metadata": {},
     "output_type": "display_data"
    }
   ],
   "source": [
    "szorzotabla = []\n",
    "for a in range(1, 11):\n",
    "    sor = []\n",
    "    for b in range(1, 11):\n",
    "        sor.append(a*b)\n",
    "    szorzotabla.append(sor)\n",
    "\n",
    "szorzotabla"
   ]
  },
  {
   "cell_type": "code",
   "execution_count": null,
   "metadata": {},
   "outputs": [
    {
     "name": "stdout",
     "output_type": "stream",
     "text": [
      "1\t2\t3\t4\t5\t6\t7\t8\t9\t10\t\n",
      "2\t4\t6\t8\t10\t12\t14\t16\t18\t20\t\n",
      "3\t6\t9\t12\t15\t18\t21\t24\t27\t30\t\n",
      "4\t8\t12\t16\t20\t24\t28\t32\t36\t40\t\n",
      "5\t10\t15\t20\t25\t30\t35\t40\t45\t50\t\n",
      "6\t12\t18\t24\t30\t36\t42\t48\t54\t60\t\n",
      "7\t14\t21\t28\t35\t42\t49\t56\t63\t70\t\n",
      "8\t16\t24\t32\t40\t48\t56\t64\t72\t80\t\n",
      "9\t18\t27\t36\t45\t54\t63\t72\t81\t90\t\n",
      "10\t20\t30\t40\t50\t60\t70\t80\t90\t100\t\n"
     ]
    }
   ],
   "source": [
    "# rendezett szorzótábla\n",
    "szorzotabla = []\n",
    "for a in range(1, 11):\n",
    "    sor = []\n",
    "    for b in range(1, 11):\n",
    "        sor.append(a*b)\n",
    "    szorzotabla.append(sor)\n",
    "\n",
    "for sor in szorzotabla:\n",
    "    sor_string = \"\"\n",
    "    for elem in sor:\n",
    "        sor_string += str(elem)\n",
    "        sor_string += \"\\t\"\n",
    "    print(sor_string)"
   ]
  },
  {
   "cell_type": "code",
   "execution_count": null,
   "metadata": {},
   "outputs": [
    {
     "name": "stdout",
     "output_type": "stream",
     "text": [
      "1\t2\t3\t4\t5\t6\t7\t8\t9\t10\n",
      "2\t4\t6\t8\t10\t12\t14\t16\t18\t20\n",
      "3\t6\t9\t12\t15\t18\t21\t24\t27\t30\n",
      "4\t8\t12\t16\t20\t24\t28\t32\t36\t40\n",
      "5\t10\t15\t20\t25\t30\t35\t40\t45\t50\n",
      "6\t12\t18\t24\t30\t36\t42\t48\t54\t60\n",
      "7\t14\t21\t28\t35\t42\t49\t56\t63\t70\n",
      "8\t16\t24\t32\t40\t48\t56\t64\t72\t80\n",
      "9\t18\t27\t36\t45\t54\t63\t72\t81\t90\n",
      "10\t20\t30\t40\t50\t60\t70\t80\t90\t100\n"
     ]
    }
   ],
   "source": [
    "# ugyanez list comprehension-ben:\n",
    "szorzotable = [[a*b for b in range(1, 11)] for a in range(1, 11)]\n",
    "\n",
    "for sor in szorzotabla:\n",
    "    print(*sor, sep=\"\\t\") # *sor listánál releváns, mert * nélkül a listát írja ki, *-al pedig a lista elemeit átadja a printnek, \n",
    "    #így csak azok elemeit írja ki"
   ]
  },
  {
   "cell_type": "code",
   "execution_count": null,
   "metadata": {},
   "outputs": [
    {
     "name": "stdout",
     "output_type": "stream",
     "text": [
      "[[[0, 1, 2], [3, 8, 12]], [[99, 123, 4], [273, 88, 102], [9, 2, 1]]]\n"
     ]
    }
   ],
   "source": [
    "# 3 dimenziós lista - ugyanaz a felépítés, mint a 2d, külső lista, belső lista, még belsőbb lista\n",
    "l_3d = [[[0, 1, 2], [3, 8, 12]], [[99, 123, 4], [273, 88, 102], [9, 2, 1]]]\n",
    "print(l_3d)"
   ]
  },
  {
   "cell_type": "code",
   "execution_count": null,
   "metadata": {},
   "outputs": [
    {
     "data": {
      "text/plain": [
       "[[0, 1, 2], [3, 8, 12]]"
      ]
     },
     "metadata": {},
     "output_type": "display_data"
    }
   ],
   "source": [
    "l_3d[0]"
   ]
  },
  {
   "cell_type": "code",
   "execution_count": null,
   "metadata": {},
   "outputs": [
    {
     "data": {
      "text/plain": [
       "[3, 8, 12]"
      ]
     },
     "metadata": {},
     "output_type": "display_data"
    }
   ],
   "source": [
    "l_3d[0][1]"
   ]
  },
  {
   "cell_type": "code",
   "execution_count": null,
   "metadata": {},
   "outputs": [
    {
     "data": {
      "text/plain": [
       "12"
      ]
     },
     "metadata": {},
     "output_type": "display_data"
    }
   ],
   "source": [
    "l_3d[0][1][2]"
   ]
  }
 ],
 "metadata": {
  "kernelspec": {
   "display_name": "Python 3",
   "language": "python",
   "name": "python3"
  },
  "language_info": {
   "codemirror_mode": {
    "name": "ipython",
    "version": 3
   },
   "file_extension": ".py",
   "mimetype": "text/x-python",
   "name": "python",
   "nbconvert_exporter": "python",
   "pygments_lexer": "ipython3",
   "version": "3.13.5"
  }
 },
 "nbformat": 4,
 "nbformat_minor": 2
}
